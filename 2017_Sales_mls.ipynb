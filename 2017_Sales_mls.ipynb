{
 "cells": [
  {
   "cell_type": "code",
   "execution_count": 5,
   "metadata": {
    "collapsed": true
   },
   "outputs": [],
   "source": [
    "import pandas as pd\n",
    "import numpy as np"
   ]
  },
  {
   "cell_type": "code",
   "execution_count": 6,
   "metadata": {},
   "outputs": [
    {
     "data": {
      "text/plain": [
       "Unnamed: 0           int64\n",
       "Zip                  int64\n",
       "Sqft Total          object\n",
       "List Price          object\n",
       "Sold/Lease$/SqFt    object\n",
       "Sold/Lease Price    object\n",
       "Sold/Lease Date     object\n",
       "dtype: object"
      ]
     },
     "execution_count": 6,
     "metadata": {},
     "output_type": "execute_result"
    }
   ],
   "source": [
    "file = 'new_2017_mls.csv'\n",
    "df = pd.read_csv(file, encoding = \"ISO-8859-1\")\n",
    "df.dtypes"
   ]
  },
  {
   "cell_type": "code",
   "execution_count": 7,
   "metadata": {},
   "outputs": [
    {
     "data": {
      "text/html": [
       "<div>\n",
       "<style>\n",
       "    .dataframe thead tr:only-child th {\n",
       "        text-align: right;\n",
       "    }\n",
       "\n",
       "    .dataframe thead th {\n",
       "        text-align: left;\n",
       "    }\n",
       "\n",
       "    .dataframe tbody tr th {\n",
       "        vertical-align: top;\n",
       "    }\n",
       "</style>\n",
       "<table border=\"1\" class=\"dataframe\">\n",
       "  <thead>\n",
       "    <tr style=\"text-align: right;\">\n",
       "      <th></th>\n",
       "      <th>Unnamed: 0</th>\n",
       "      <th>Zip</th>\n",
       "      <th>Sqft Total</th>\n",
       "      <th>List Price</th>\n",
       "      <th>Sold/Lease$/SqFt</th>\n",
       "      <th>Sold/Lease Price</th>\n",
       "      <th>Sold/Lease Date</th>\n",
       "    </tr>\n",
       "  </thead>\n",
       "  <tbody>\n",
       "    <tr>\n",
       "      <th>10483</th>\n",
       "      <td>10483</td>\n",
       "      <td>78736</td>\n",
       "      <td>3,534</td>\n",
       "      <td>$2,100,000</td>\n",
       "      <td>$509.34</td>\n",
       "      <td>$1,800,000</td>\n",
       "      <td>4/17/2017</td>\n",
       "    </tr>\n",
       "    <tr>\n",
       "      <th>10484</th>\n",
       "      <td>10484</td>\n",
       "      <td>78735</td>\n",
       "      <td>10,828</td>\n",
       "      <td>$2,500,000</td>\n",
       "      <td>$190.55</td>\n",
       "      <td>$2,063,250</td>\n",
       "      <td>5/18/2017</td>\n",
       "    </tr>\n",
       "    <tr>\n",
       "      <th>10485</th>\n",
       "      <td>10485</td>\n",
       "      <td>78735</td>\n",
       "      <td>6,308</td>\n",
       "      <td>$2,249,000</td>\n",
       "      <td>$344.80</td>\n",
       "      <td>$2,175,000</td>\n",
       "      <td>9/22/2017</td>\n",
       "    </tr>\n",
       "    <tr>\n",
       "      <th>10486</th>\n",
       "      <td>10486</td>\n",
       "      <td>78735</td>\n",
       "      <td>5,261</td>\n",
       "      <td>$2,675,000</td>\n",
       "      <td>$508.46</td>\n",
       "      <td>$2,675,000</td>\n",
       "      <td>5/1/2017</td>\n",
       "    </tr>\n",
       "    <tr>\n",
       "      <th>10487</th>\n",
       "      <td>10487</td>\n",
       "      <td>78735</td>\n",
       "      <td>10,844</td>\n",
       "      <td>$4,999,000</td>\n",
       "      <td>$372.10</td>\n",
       "      <td>$4,035,000</td>\n",
       "      <td>1/27/2017</td>\n",
       "    </tr>\n",
       "  </tbody>\n",
       "</table>\n",
       "</div>"
      ],
      "text/plain": [
       "       Unnamed: 0    Zip Sqft Total   List Price Sold/Lease$/SqFt  \\\n",
       "10483       10483  78736      3,534  $2,100,000          $509.34    \n",
       "10484       10484  78735     10,828  $2,500,000          $190.55    \n",
       "10485       10485  78735      6,308  $2,249,000          $344.80    \n",
       "10486       10486  78735      5,261  $2,675,000          $508.46    \n",
       "10487       10487  78735     10,844  $4,999,000          $372.10    \n",
       "\n",
       "      Sold/Lease Price Sold/Lease Date  \n",
       "10483      $1,800,000        4/17/2017  \n",
       "10484      $2,063,250        5/18/2017  \n",
       "10485      $2,175,000        9/22/2017  \n",
       "10486      $2,675,000         5/1/2017  \n",
       "10487      $4,035,000        1/27/2017  "
      ]
     },
     "execution_count": 7,
     "metadata": {},
     "output_type": "execute_result"
    }
   ],
   "source": [
    "df.tail()"
   ]
  },
  {
   "cell_type": "code",
   "execution_count": 8,
   "metadata": {
    "collapsed": true
   },
   "outputs": [],
   "source": [
    "# Using .rename(columns={}) in order to rename columns\n",
    "renamed_df = df.rename(columns={\"Zip\":\"Zip Code\", \"Sqft Total\":\"Square Footage\", \"Sold/Lease$/SqFt\":\"Sold Price Per Foot\",\"Sold/Lease Date\":\"Sold Date\",\"Sold/Lease Price\":\"Sold Price\"})\n",
    "del renamed_df['Unnamed: 0']\n",
    "# renamed_df = renamed_df.drop(renamed_df.index[-1])\n",
    "renamed_df = renamed_df.fillna(0)"
   ]
  },
  {
   "cell_type": "code",
   "execution_count": 9,
   "metadata": {},
   "outputs": [
    {
     "data": {
      "text/html": [
       "<div>\n",
       "<style>\n",
       "    .dataframe thead tr:only-child th {\n",
       "        text-align: right;\n",
       "    }\n",
       "\n",
       "    .dataframe thead th {\n",
       "        text-align: left;\n",
       "    }\n",
       "\n",
       "    .dataframe tbody tr th {\n",
       "        vertical-align: top;\n",
       "    }\n",
       "</style>\n",
       "<table border=\"1\" class=\"dataframe\">\n",
       "  <thead>\n",
       "    <tr style=\"text-align: right;\">\n",
       "      <th></th>\n",
       "      <th>Zip Code</th>\n",
       "      <th>Square Footage</th>\n",
       "      <th>List Price</th>\n",
       "      <th>Sold Price Per Foot</th>\n",
       "      <th>Sold Price</th>\n",
       "      <th>Sold Date</th>\n",
       "    </tr>\n",
       "  </thead>\n",
       "  <tbody>\n",
       "    <tr>\n",
       "      <th>10483</th>\n",
       "      <td>78736</td>\n",
       "      <td>3534</td>\n",
       "      <td>2.1e+06</td>\n",
       "      <td>509.34</td>\n",
       "      <td>1.8e+06</td>\n",
       "      <td>4/17/2017</td>\n",
       "    </tr>\n",
       "    <tr>\n",
       "      <th>10484</th>\n",
       "      <td>78735</td>\n",
       "      <td>10828</td>\n",
       "      <td>2.5e+06</td>\n",
       "      <td>190.55</td>\n",
       "      <td>2.06325e+06</td>\n",
       "      <td>5/18/2017</td>\n",
       "    </tr>\n",
       "    <tr>\n",
       "      <th>10485</th>\n",
       "      <td>78735</td>\n",
       "      <td>6308</td>\n",
       "      <td>2.249e+06</td>\n",
       "      <td>344.8</td>\n",
       "      <td>2.175e+06</td>\n",
       "      <td>9/22/2017</td>\n",
       "    </tr>\n",
       "    <tr>\n",
       "      <th>10486</th>\n",
       "      <td>78735</td>\n",
       "      <td>5261</td>\n",
       "      <td>2.675e+06</td>\n",
       "      <td>508.46</td>\n",
       "      <td>2.675e+06</td>\n",
       "      <td>5/1/2017</td>\n",
       "    </tr>\n",
       "    <tr>\n",
       "      <th>10487</th>\n",
       "      <td>78735</td>\n",
       "      <td>10844</td>\n",
       "      <td>4.999e+06</td>\n",
       "      <td>372.1</td>\n",
       "      <td>4.035e+06</td>\n",
       "      <td>1/27/2017</td>\n",
       "    </tr>\n",
       "  </tbody>\n",
       "</table>\n",
       "</div>"
      ],
      "text/plain": [
       "       Zip Code Square Footage List Price Sold Price Per Foot   Sold Price  \\\n",
       "10483     78736           3534    2.1e+06              509.34      1.8e+06   \n",
       "10484     78735          10828    2.5e+06              190.55  2.06325e+06   \n",
       "10485     78735           6308  2.249e+06               344.8    2.175e+06   \n",
       "10486     78735           5261  2.675e+06              508.46    2.675e+06   \n",
       "10487     78735          10844  4.999e+06               372.1    4.035e+06   \n",
       "\n",
       "       Sold Date  \n",
       "10483  4/17/2017  \n",
       "10484  5/18/2017  \n",
       "10485  9/22/2017  \n",
       "10486   5/1/2017  \n",
       "10487  1/27/2017  "
      ]
     },
     "execution_count": 9,
     "metadata": {},
     "output_type": "execute_result"
    }
   ],
   "source": [
    "for idx, row in renamed_df.iterrows():\n",
    "    renamed_df.set_value(idx,'Sold Price', float(str(row['Sold Price']).replace(',','').replace('$','').strip()))\n",
    "    renamed_df.set_value(idx,'Zip Code', float(str(row['Zip Code']).replace(',','').replace('$','').strip()))\n",
    "    renamed_df.set_value(idx, 'Square Footage', float(str(row['Square Footage']).replace(',','').replace('$','').strip()))\n",
    "    renamed_df.set_value(idx,'List Price', float(str(row['List Price']).replace(',','').replace('$','').strip()))\n",
    "    renamed_df.set_value(idx,'Sold Price Per Foot', float(str(row['Sold Price Per Foot']).replace(',','').replace('$','').strip()))\n",
    "\n",
    "renamed_df.tail()"
   ]
  },
  {
   "cell_type": "code",
   "execution_count": 10,
   "metadata": {},
   "outputs": [
    {
     "data": {
      "text/plain": [
       "Zip Code                int64\n",
       "Square Footage         object\n",
       "List Price             object\n",
       "Sold Price Per Foot    object\n",
       "Sold Price             object\n",
       "Sold Date              object\n",
       "dtype: object"
      ]
     },
     "execution_count": 10,
     "metadata": {},
     "output_type": "execute_result"
    }
   ],
   "source": [
    "renamed_df.dtypes"
   ]
  },
  {
   "cell_type": "code",
   "execution_count": 11,
   "metadata": {
    "collapsed": true
   },
   "outputs": [],
   "source": [
    "renamed_df['Sold Price'] = renamed_df['Sold Price'].astype(int)\n",
    "renamed_df['Zip Code'] = renamed_df['Zip Code'].astype(int)\n",
    "renamed_df['Square Footage'] = renamed_df['Square Footage'].astype(int)\n",
    "renamed_df['Sold Price Per Foot'] = renamed_df['Sold Price Per Foot'].astype(float)\n",
    "renamed_df['List Price'] = renamed_df['List Price'].astype(int)"
   ]
  },
  {
   "cell_type": "code",
   "execution_count": 12,
   "metadata": {},
   "outputs": [
    {
     "data": {
      "text/plain": [
       "Zip Code                 int32\n",
       "Square Footage           int32\n",
       "List Price               int32\n",
       "Sold Price Per Foot    float64\n",
       "Sold Price               int32\n",
       "Sold Date               object\n",
       "dtype: object"
      ]
     },
     "execution_count": 12,
     "metadata": {},
     "output_type": "execute_result"
    }
   ],
   "source": [
    "renamed_df.dtypes"
   ]
  },
  {
   "cell_type": "code",
   "execution_count": 13,
   "metadata": {},
   "outputs": [
    {
     "data": {
      "text/html": [
       "<div>\n",
       "<style>\n",
       "    .dataframe thead tr:only-child th {\n",
       "        text-align: right;\n",
       "    }\n",
       "\n",
       "    .dataframe thead th {\n",
       "        text-align: left;\n",
       "    }\n",
       "\n",
       "    .dataframe tbody tr th {\n",
       "        vertical-align: top;\n",
       "    }\n",
       "</style>\n",
       "<table border=\"1\" class=\"dataframe\">\n",
       "  <thead>\n",
       "    <tr style=\"text-align: right;\">\n",
       "      <th></th>\n",
       "      <th>Zip Code</th>\n",
       "      <th>Square Footage</th>\n",
       "      <th>List Price</th>\n",
       "      <th>Sold Price Per Foot</th>\n",
       "      <th>Sold Price</th>\n",
       "    </tr>\n",
       "  </thead>\n",
       "  <tbody>\n",
       "    <tr>\n",
       "      <th>count</th>\n",
       "      <td>10488.000000</td>\n",
       "      <td>10488.000000</td>\n",
       "      <td>1.048800e+04</td>\n",
       "      <td>10488.000000</td>\n",
       "      <td>1.048800e+04</td>\n",
       "    </tr>\n",
       "    <tr>\n",
       "      <th>mean</th>\n",
       "      <td>78729.514683</td>\n",
       "      <td>2266.688596</td>\n",
       "      <td>4.955054e+05</td>\n",
       "      <td>215.882963</td>\n",
       "      <td>4.835067e+05</td>\n",
       "    </tr>\n",
       "    <tr>\n",
       "      <th>std</th>\n",
       "      <td>692.137744</td>\n",
       "      <td>1081.500426</td>\n",
       "      <td>4.777981e+05</td>\n",
       "      <td>101.742728</td>\n",
       "      <td>4.379496e+05</td>\n",
       "    </tr>\n",
       "    <tr>\n",
       "      <th>min</th>\n",
       "      <td>7874.000000</td>\n",
       "      <td>356.000000</td>\n",
       "      <td>1.990000e+04</td>\n",
       "      <td>9.620000</td>\n",
       "      <td>2.500000e+04</td>\n",
       "    </tr>\n",
       "    <tr>\n",
       "      <th>25%</th>\n",
       "      <td>78727.000000</td>\n",
       "      <td>1521.750000</td>\n",
       "      <td>2.890000e+05</td>\n",
       "      <td>151.907500</td>\n",
       "      <td>2.850000e+05</td>\n",
       "    </tr>\n",
       "    <tr>\n",
       "      <th>50%</th>\n",
       "      <td>78738.000000</td>\n",
       "      <td>2038.000000</td>\n",
       "      <td>3.850000e+05</td>\n",
       "      <td>185.635000</td>\n",
       "      <td>3.800000e+05</td>\n",
       "    </tr>\n",
       "    <tr>\n",
       "      <th>75%</th>\n",
       "      <td>78748.000000</td>\n",
       "      <td>2775.000000</td>\n",
       "      <td>5.499992e+05</td>\n",
       "      <td>252.422500</td>\n",
       "      <td>5.400000e+05</td>\n",
       "    </tr>\n",
       "    <tr>\n",
       "      <th>max</th>\n",
       "      <td>78759.000000</td>\n",
       "      <td>16406.000000</td>\n",
       "      <td>2.500000e+07</td>\n",
       "      <td>3308.140000</td>\n",
       "      <td>2.179400e+07</td>\n",
       "    </tr>\n",
       "  </tbody>\n",
       "</table>\n",
       "</div>"
      ],
      "text/plain": [
       "           Zip Code  Square Footage    List Price  Sold Price Per Foot  \\\n",
       "count  10488.000000    10488.000000  1.048800e+04         10488.000000   \n",
       "mean   78729.514683     2266.688596  4.955054e+05           215.882963   \n",
       "std      692.137744     1081.500426  4.777981e+05           101.742728   \n",
       "min     7874.000000      356.000000  1.990000e+04             9.620000   \n",
       "25%    78727.000000     1521.750000  2.890000e+05           151.907500   \n",
       "50%    78738.000000     2038.000000  3.850000e+05           185.635000   \n",
       "75%    78748.000000     2775.000000  5.499992e+05           252.422500   \n",
       "max    78759.000000    16406.000000  2.500000e+07          3308.140000   \n",
       "\n",
       "         Sold Price  \n",
       "count  1.048800e+04  \n",
       "mean   4.835067e+05  \n",
       "std    4.379496e+05  \n",
       "min    2.500000e+04  \n",
       "25%    2.850000e+05  \n",
       "50%    3.800000e+05  \n",
       "75%    5.400000e+05  \n",
       "max    2.179400e+07  "
      ]
     },
     "execution_count": 13,
     "metadata": {},
     "output_type": "execute_result"
    }
   ],
   "source": [
    "renamed_df.describe()"
   ]
  },
  {
   "cell_type": "code",
   "execution_count": 14,
   "metadata": {},
   "outputs": [
    {
     "data": {
      "text/html": [
       "<div>\n",
       "<style>\n",
       "    .dataframe thead tr:only-child th {\n",
       "        text-align: right;\n",
       "    }\n",
       "\n",
       "    .dataframe thead th {\n",
       "        text-align: left;\n",
       "    }\n",
       "\n",
       "    .dataframe tbody tr th {\n",
       "        vertical-align: top;\n",
       "    }\n",
       "</style>\n",
       "<table border=\"1\" class=\"dataframe\">\n",
       "  <thead>\n",
       "    <tr style=\"text-align: right;\">\n",
       "      <th></th>\n",
       "      <th>Zip Code</th>\n",
       "      <th>Square Footage</th>\n",
       "      <th>List Price</th>\n",
       "      <th>Sold Price Per Foot</th>\n",
       "      <th>Sold Price</th>\n",
       "      <th>Sold Date</th>\n",
       "    </tr>\n",
       "  </thead>\n",
       "  <tbody>\n",
       "    <tr>\n",
       "      <th>0</th>\n",
       "      <td>78759</td>\n",
       "      <td>1696</td>\n",
       "      <td>379000</td>\n",
       "      <td>238.80</td>\n",
       "      <td>405000</td>\n",
       "      <td>10/27/2017</td>\n",
       "    </tr>\n",
       "    <tr>\n",
       "      <th>1</th>\n",
       "      <td>78759</td>\n",
       "      <td>2024</td>\n",
       "      <td>424999</td>\n",
       "      <td>207.51</td>\n",
       "      <td>420000</td>\n",
       "      <td>8/14/2017</td>\n",
       "    </tr>\n",
       "    <tr>\n",
       "      <th>2</th>\n",
       "      <td>78759</td>\n",
       "      <td>1978</td>\n",
       "      <td>395000</td>\n",
       "      <td>216.63</td>\n",
       "      <td>428500</td>\n",
       "      <td>6/23/2017</td>\n",
       "    </tr>\n",
       "    <tr>\n",
       "      <th>3</th>\n",
       "      <td>78759</td>\n",
       "      <td>2080</td>\n",
       "      <td>495000</td>\n",
       "      <td>210.34</td>\n",
       "      <td>437500</td>\n",
       "      <td>10/3/2017</td>\n",
       "    </tr>\n",
       "    <tr>\n",
       "      <th>4</th>\n",
       "      <td>78731</td>\n",
       "      <td>1527</td>\n",
       "      <td>450000</td>\n",
       "      <td>290.11</td>\n",
       "      <td>443000</td>\n",
       "      <td>10/26/2017</td>\n",
       "    </tr>\n",
       "  </tbody>\n",
       "</table>\n",
       "</div>"
      ],
      "text/plain": [
       "   Zip Code  Square Footage  List Price  Sold Price Per Foot  Sold Price  \\\n",
       "0     78759            1696      379000               238.80      405000   \n",
       "1     78759            2024      424999               207.51      420000   \n",
       "2     78759            1978      395000               216.63      428500   \n",
       "3     78759            2080      495000               210.34      437500   \n",
       "4     78731            1527      450000               290.11      443000   \n",
       "\n",
       "    Sold Date  \n",
       "0  10/27/2017  \n",
       "1   8/14/2017  \n",
       "2   6/23/2017  \n",
       "3   10/3/2017  \n",
       "4  10/26/2017  "
      ]
     },
     "execution_count": 14,
     "metadata": {},
     "output_type": "execute_result"
    }
   ],
   "source": [
    "renamed_df.head()"
   ]
  },
  {
   "cell_type": "code",
   "execution_count": 15,
   "metadata": {
    "collapsed": true
   },
   "outputs": [],
   "source": [
    "new_2013_df = renamed_df\n",
    "new_2013_df.to_csv(\"clean_2017_mls.csv\")"
   ]
  },
  {
   "cell_type": "code",
   "execution_count": null,
   "metadata": {
    "collapsed": true
   },
   "outputs": [],
   "source": []
  }
 ],
 "metadata": {
  "kernelspec": {
   "display_name": "Python 3",
   "language": "python",
   "name": "python3"
  },
  "language_info": {
   "codemirror_mode": {
    "name": "ipython",
    "version": 3
   },
   "file_extension": ".py",
   "mimetype": "text/x-python",
   "name": "python",
   "nbconvert_exporter": "python",
   "pygments_lexer": "ipython3",
   "version": "3.6.3"
  }
 },
 "nbformat": 4,
 "nbformat_minor": 2
}
