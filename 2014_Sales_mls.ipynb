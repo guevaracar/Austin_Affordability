{
 "cells": [
  {
   "cell_type": "code",
   "execution_count": 1,
   "metadata": {
    "collapsed": true
   },
   "outputs": [],
   "source": [
    "import pandas as pd\n",
    "import numpy as np"
   ]
  },
  {
   "cell_type": "code",
   "execution_count": 2,
   "metadata": {
    "collapsed": true
   },
   "outputs": [],
   "source": [
    "file = 'new_2014_mls.csv'"
   ]
  },
  {
   "cell_type": "code",
   "execution_count": 3,
   "metadata": {
    "collapsed": true
   },
   "outputs": [],
   "source": [
    "df = pd.read_csv(file, encoding = \"ISO-8859-1\")"
   ]
  },
  {
   "cell_type": "code",
   "execution_count": 4,
   "metadata": {},
   "outputs": [
    {
     "data": {
      "text/plain": [
       "Unnamed: 0           int64\n",
       "Zip                  int64\n",
       "Sqft Total          object\n",
       "List Price          object\n",
       "Sold/Lease$/SqFt    object\n",
       "Sold/Lease Price    object\n",
       "Sold/Lease Date     object\n",
       "dtype: object"
      ]
     },
     "execution_count": 4,
     "metadata": {},
     "output_type": "execute_result"
    }
   ],
   "source": [
    "df.dtypes"
   ]
  },
  {
   "cell_type": "code",
   "execution_count": 6,
   "metadata": {},
   "outputs": [
    {
     "data": {
      "text/html": [
       "<div>\n",
       "<style>\n",
       "    .dataframe thead tr:only-child th {\n",
       "        text-align: right;\n",
       "    }\n",
       "\n",
       "    .dataframe thead th {\n",
       "        text-align: left;\n",
       "    }\n",
       "\n",
       "    .dataframe tbody tr th {\n",
       "        vertical-align: top;\n",
       "    }\n",
       "</style>\n",
       "<table border=\"1\" class=\"dataframe\">\n",
       "  <thead>\n",
       "    <tr style=\"text-align: right;\">\n",
       "      <th></th>\n",
       "      <th>Unnamed: 0</th>\n",
       "      <th>Zip</th>\n",
       "      <th>Sqft Total</th>\n",
       "      <th>List Price</th>\n",
       "      <th>Sold/Lease$/SqFt</th>\n",
       "      <th>Sold/Lease Price</th>\n",
       "      <th>Sold/Lease Date</th>\n",
       "    </tr>\n",
       "  </thead>\n",
       "  <tbody>\n",
       "    <tr>\n",
       "      <th>11087</th>\n",
       "      <td>11087</td>\n",
       "      <td>78735</td>\n",
       "      <td>5,728</td>\n",
       "      <td>$1,850,000</td>\n",
       "      <td>$303.95</td>\n",
       "      <td>$1,741,000</td>\n",
       "      <td>4/1/2014</td>\n",
       "    </tr>\n",
       "    <tr>\n",
       "      <th>11088</th>\n",
       "      <td>11088</td>\n",
       "      <td>78735</td>\n",
       "      <td>4,314</td>\n",
       "      <td>$1,749,000</td>\n",
       "      <td>$405.42</td>\n",
       "      <td>$1,749,000</td>\n",
       "      <td>9/19/2014</td>\n",
       "    </tr>\n",
       "    <tr>\n",
       "      <th>11089</th>\n",
       "      <td>11089</td>\n",
       "      <td>78735</td>\n",
       "      <td>5,515</td>\n",
       "      <td>$1,850,000</td>\n",
       "      <td>$326.38</td>\n",
       "      <td>$1,800,000</td>\n",
       "      <td>11/21/2014</td>\n",
       "    </tr>\n",
       "    <tr>\n",
       "      <th>11090</th>\n",
       "      <td>11090</td>\n",
       "      <td>78735</td>\n",
       "      <td>5,300</td>\n",
       "      <td>$2,000,000</td>\n",
       "      <td>$452.83</td>\n",
       "      <td>$2,399,999</td>\n",
       "      <td>3/18/2014</td>\n",
       "    </tr>\n",
       "    <tr>\n",
       "      <th>11091</th>\n",
       "      <td>11091</td>\n",
       "      <td>78736</td>\n",
       "      <td>8,831</td>\n",
       "      <td>$2,595,000</td>\n",
       "      <td>$283.09</td>\n",
       "      <td>$2,500,000</td>\n",
       "      <td>2/11/2014</td>\n",
       "    </tr>\n",
       "  </tbody>\n",
       "</table>\n",
       "</div>"
      ],
      "text/plain": [
       "       Unnamed: 0    Zip Sqft Total   List Price Sold/Lease$/SqFt  \\\n",
       "11087       11087  78735      5,728  $1,850,000          $303.95    \n",
       "11088       11088  78735      4,314  $1,749,000          $405.42    \n",
       "11089       11089  78735      5,515  $1,850,000          $326.38    \n",
       "11090       11090  78735      5,300  $2,000,000          $452.83    \n",
       "11091       11091  78736      8,831  $2,595,000          $283.09    \n",
       "\n",
       "      Sold/Lease Price Sold/Lease Date  \n",
       "11087      $1,741,000         4/1/2014  \n",
       "11088      $1,749,000        9/19/2014  \n",
       "11089      $1,800,000       11/21/2014  \n",
       "11090      $2,399,999        3/18/2014  \n",
       "11091      $2,500,000        2/11/2014  "
      ]
     },
     "execution_count": 6,
     "metadata": {},
     "output_type": "execute_result"
    }
   ],
   "source": [
    "df.tail()"
   ]
  },
  {
   "cell_type": "code",
   "execution_count": 7,
   "metadata": {
    "collapsed": true
   },
   "outputs": [],
   "source": [
    "# Using .rename(columns={}) in order to rename columns\n",
    "renamed_df = df.rename(columns={\"Zip\":\"Zip Code\", \"Sqft Total\":\"Square Footage\", \"Sold/Lease$/SqFt\":\"Sold Price Per Foot\",\"Sold/Lease Date\":\"Sold Date\",\"Sold/Lease Price\":\"Sold Price\"})\n",
    "del renamed_df['Unnamed: 0']\n",
    "# renamed_df = renamed_df.drop(renamed_df.index[-1])\n",
    "renamed_df = renamed_df.fillna(0)"
   ]
  },
  {
   "cell_type": "code",
   "execution_count": 8,
   "metadata": {},
   "outputs": [
    {
     "data": {
      "text/html": [
       "<div>\n",
       "<style>\n",
       "    .dataframe thead tr:only-child th {\n",
       "        text-align: right;\n",
       "    }\n",
       "\n",
       "    .dataframe thead th {\n",
       "        text-align: left;\n",
       "    }\n",
       "\n",
       "    .dataframe tbody tr th {\n",
       "        vertical-align: top;\n",
       "    }\n",
       "</style>\n",
       "<table border=\"1\" class=\"dataframe\">\n",
       "  <thead>\n",
       "    <tr style=\"text-align: right;\">\n",
       "      <th></th>\n",
       "      <th>Zip Code</th>\n",
       "      <th>Square Footage</th>\n",
       "      <th>List Price</th>\n",
       "      <th>Sold Price Per Foot</th>\n",
       "      <th>Sold Price</th>\n",
       "      <th>Sold Date</th>\n",
       "    </tr>\n",
       "  </thead>\n",
       "  <tbody>\n",
       "    <tr>\n",
       "      <th>11087</th>\n",
       "      <td>78735</td>\n",
       "      <td>5728</td>\n",
       "      <td>1.85e+06</td>\n",
       "      <td>303.95</td>\n",
       "      <td>1.741e+06</td>\n",
       "      <td>4/1/2014</td>\n",
       "    </tr>\n",
       "    <tr>\n",
       "      <th>11088</th>\n",
       "      <td>78735</td>\n",
       "      <td>4314</td>\n",
       "      <td>1.749e+06</td>\n",
       "      <td>405.42</td>\n",
       "      <td>1.749e+06</td>\n",
       "      <td>9/19/2014</td>\n",
       "    </tr>\n",
       "    <tr>\n",
       "      <th>11089</th>\n",
       "      <td>78735</td>\n",
       "      <td>5515</td>\n",
       "      <td>1.85e+06</td>\n",
       "      <td>326.38</td>\n",
       "      <td>1.8e+06</td>\n",
       "      <td>11/21/2014</td>\n",
       "    </tr>\n",
       "    <tr>\n",
       "      <th>11090</th>\n",
       "      <td>78735</td>\n",
       "      <td>5300</td>\n",
       "      <td>2e+06</td>\n",
       "      <td>452.83</td>\n",
       "      <td>2.4e+06</td>\n",
       "      <td>3/18/2014</td>\n",
       "    </tr>\n",
       "    <tr>\n",
       "      <th>11091</th>\n",
       "      <td>78736</td>\n",
       "      <td>8831</td>\n",
       "      <td>2.595e+06</td>\n",
       "      <td>283.09</td>\n",
       "      <td>2.5e+06</td>\n",
       "      <td>2/11/2014</td>\n",
       "    </tr>\n",
       "  </tbody>\n",
       "</table>\n",
       "</div>"
      ],
      "text/plain": [
       "       Zip Code Square Footage List Price Sold Price Per Foot Sold Price  \\\n",
       "11087     78735           5728   1.85e+06              303.95  1.741e+06   \n",
       "11088     78735           4314  1.749e+06              405.42  1.749e+06   \n",
       "11089     78735           5515   1.85e+06              326.38    1.8e+06   \n",
       "11090     78735           5300      2e+06              452.83    2.4e+06   \n",
       "11091     78736           8831  2.595e+06              283.09    2.5e+06   \n",
       "\n",
       "        Sold Date  \n",
       "11087    4/1/2014  \n",
       "11088   9/19/2014  \n",
       "11089  11/21/2014  \n",
       "11090   3/18/2014  \n",
       "11091   2/11/2014  "
      ]
     },
     "execution_count": 8,
     "metadata": {},
     "output_type": "execute_result"
    }
   ],
   "source": [
    "for idx, row in renamed_df.iterrows():\n",
    "    renamed_df.set_value(idx,'Sold Price', float(str(row['Sold Price']).replace(',','').replace('$','').strip()))\n",
    "    renamed_df.set_value(idx,'Zip Code', float(str(row['Zip Code']).replace(',','').replace('$','').strip()))\n",
    "    renamed_df.set_value(idx, 'Square Footage', float(str(row['Square Footage']).replace(',','').replace('$','').strip()))\n",
    "    renamed_df.set_value(idx,'List Price', float(str(row['List Price']).replace(',','').replace('$','').strip()))\n",
    "    renamed_df.set_value(idx,'Sold Price Per Foot', float(str(row['Sold Price Per Foot']).replace(',','').replace('$','').strip()))\n",
    "\n",
    "renamed_df.tail()"
   ]
  },
  {
   "cell_type": "code",
   "execution_count": 9,
   "metadata": {},
   "outputs": [
    {
     "data": {
      "text/plain": [
       "Zip Code                int64\n",
       "Square Footage         object\n",
       "List Price             object\n",
       "Sold Price Per Foot    object\n",
       "Sold Price             object\n",
       "Sold Date              object\n",
       "dtype: object"
      ]
     },
     "execution_count": 9,
     "metadata": {},
     "output_type": "execute_result"
    }
   ],
   "source": [
    "renamed_df.dtypes"
   ]
  },
  {
   "cell_type": "code",
   "execution_count": 10,
   "metadata": {
    "collapsed": true
   },
   "outputs": [],
   "source": [
    "renamed_df['Sold Price'] = renamed_df['Sold Price'].astype(int)\n",
    "renamed_df['Zip Code'] = renamed_df['Zip Code'].astype(int)\n",
    "renamed_df['Square Footage'] = renamed_df['Square Footage'].astype(int)\n",
    "renamed_df['Sold Price Per Foot'] = renamed_df['Sold Price Per Foot'].astype(float)\n",
    "renamed_df['List Price'] = renamed_df['List Price'].astype(int)"
   ]
  },
  {
   "cell_type": "code",
   "execution_count": 11,
   "metadata": {},
   "outputs": [
    {
     "data": {
      "text/plain": [
       "Zip Code                 int32\n",
       "Square Footage           int32\n",
       "List Price               int32\n",
       "Sold Price Per Foot    float64\n",
       "Sold Price               int32\n",
       "Sold Date               object\n",
       "dtype: object"
      ]
     },
     "execution_count": 11,
     "metadata": {},
     "output_type": "execute_result"
    }
   ],
   "source": [
    "renamed_df.dtypes"
   ]
  },
  {
   "cell_type": "code",
   "execution_count": 12,
   "metadata": {},
   "outputs": [
    {
     "data": {
      "text/html": [
       "<div>\n",
       "<style>\n",
       "    .dataframe thead tr:only-child th {\n",
       "        text-align: right;\n",
       "    }\n",
       "\n",
       "    .dataframe thead th {\n",
       "        text-align: left;\n",
       "    }\n",
       "\n",
       "    .dataframe tbody tr th {\n",
       "        vertical-align: top;\n",
       "    }\n",
       "</style>\n",
       "<table border=\"1\" class=\"dataframe\">\n",
       "  <thead>\n",
       "    <tr style=\"text-align: right;\">\n",
       "      <th></th>\n",
       "      <th>Zip Code</th>\n",
       "      <th>Square Footage</th>\n",
       "      <th>List Price</th>\n",
       "      <th>Sold Price Per Foot</th>\n",
       "      <th>Sold Price</th>\n",
       "    </tr>\n",
       "  </thead>\n",
       "  <tbody>\n",
       "    <tr>\n",
       "      <th>count</th>\n",
       "      <td>11092.000000</td>\n",
       "      <td>11092.000000</td>\n",
       "      <td>1.109200e+04</td>\n",
       "      <td>11092.000000</td>\n",
       "      <td>1.109200e+04</td>\n",
       "    </tr>\n",
       "    <tr>\n",
       "      <th>mean</th>\n",
       "      <td>78737.376578</td>\n",
       "      <td>2244.248648</td>\n",
       "      <td>4.104757e+05</td>\n",
       "      <td>178.583589</td>\n",
       "      <td>4.023666e+05</td>\n",
       "    </tr>\n",
       "    <tr>\n",
       "      <th>std</th>\n",
       "      <td>106.581108</td>\n",
       "      <td>1065.192438</td>\n",
       "      <td>3.690929e+05</td>\n",
       "      <td>85.593937</td>\n",
       "      <td>3.462971e+05</td>\n",
       "    </tr>\n",
       "    <tr>\n",
       "      <th>min</th>\n",
       "      <td>78617.000000</td>\n",
       "      <td>360.000000</td>\n",
       "      <td>3.450000e+04</td>\n",
       "      <td>15.850000</td>\n",
       "      <td>2.666000e+04</td>\n",
       "    </tr>\n",
       "    <tr>\n",
       "      <th>25%</th>\n",
       "      <td>78727.000000</td>\n",
       "      <td>1495.000000</td>\n",
       "      <td>2.250000e+05</td>\n",
       "      <td>124.555000</td>\n",
       "      <td>2.230000e+05</td>\n",
       "    </tr>\n",
       "    <tr>\n",
       "      <th>50%</th>\n",
       "      <td>78738.000000</td>\n",
       "      <td>2020.000000</td>\n",
       "      <td>3.165000e+05</td>\n",
       "      <td>151.275000</td>\n",
       "      <td>3.150000e+05</td>\n",
       "    </tr>\n",
       "    <tr>\n",
       "      <th>75%</th>\n",
       "      <td>78748.000000</td>\n",
       "      <td>2762.500000</td>\n",
       "      <td>4.664260e+05</td>\n",
       "      <td>208.895000</td>\n",
       "      <td>4.598542e+05</td>\n",
       "    </tr>\n",
       "    <tr>\n",
       "      <th>max</th>\n",
       "      <td>89838.000000</td>\n",
       "      <td>14425.000000</td>\n",
       "      <td>7.250000e+06</td>\n",
       "      <td>1245.390000</td>\n",
       "      <td>6.750000e+06</td>\n",
       "    </tr>\n",
       "  </tbody>\n",
       "</table>\n",
       "</div>"
      ],
      "text/plain": [
       "           Zip Code  Square Footage    List Price  Sold Price Per Foot  \\\n",
       "count  11092.000000    11092.000000  1.109200e+04         11092.000000   \n",
       "mean   78737.376578     2244.248648  4.104757e+05           178.583589   \n",
       "std      106.581108     1065.192438  3.690929e+05            85.593937   \n",
       "min    78617.000000      360.000000  3.450000e+04            15.850000   \n",
       "25%    78727.000000     1495.000000  2.250000e+05           124.555000   \n",
       "50%    78738.000000     2020.000000  3.165000e+05           151.275000   \n",
       "75%    78748.000000     2762.500000  4.664260e+05           208.895000   \n",
       "max    89838.000000    14425.000000  7.250000e+06          1245.390000   \n",
       "\n",
       "         Sold Price  \n",
       "count  1.109200e+04  \n",
       "mean   4.023666e+05  \n",
       "std    3.462971e+05  \n",
       "min    2.666000e+04  \n",
       "25%    2.230000e+05  \n",
       "50%    3.150000e+05  \n",
       "75%    4.598542e+05  \n",
       "max    6.750000e+06  "
      ]
     },
     "execution_count": 12,
     "metadata": {},
     "output_type": "execute_result"
    }
   ],
   "source": [
    "renamed_df.describe()"
   ]
  },
  {
   "cell_type": "code",
   "execution_count": 13,
   "metadata": {},
   "outputs": [
    {
     "data": {
      "text/html": [
       "<div>\n",
       "<style>\n",
       "    .dataframe thead tr:only-child th {\n",
       "        text-align: right;\n",
       "    }\n",
       "\n",
       "    .dataframe thead th {\n",
       "        text-align: left;\n",
       "    }\n",
       "\n",
       "    .dataframe tbody tr th {\n",
       "        vertical-align: top;\n",
       "    }\n",
       "</style>\n",
       "<table border=\"1\" class=\"dataframe\">\n",
       "  <thead>\n",
       "    <tr style=\"text-align: right;\">\n",
       "      <th></th>\n",
       "      <th>Zip Code</th>\n",
       "      <th>Square Footage</th>\n",
       "      <th>List Price</th>\n",
       "      <th>Sold Price Per Foot</th>\n",
       "      <th>Sold Price</th>\n",
       "      <th>Sold Date</th>\n",
       "    </tr>\n",
       "  </thead>\n",
       "  <tbody>\n",
       "    <tr>\n",
       "      <th>0</th>\n",
       "      <td>78759</td>\n",
       "      <td>1741</td>\n",
       "      <td>369000</td>\n",
       "      <td>186.67</td>\n",
       "      <td>325000</td>\n",
       "      <td>8/18/2014</td>\n",
       "    </tr>\n",
       "    <tr>\n",
       "      <th>1</th>\n",
       "      <td>78759</td>\n",
       "      <td>2058</td>\n",
       "      <td>399000</td>\n",
       "      <td>168.61</td>\n",
       "      <td>347000</td>\n",
       "      <td>9/11/2014</td>\n",
       "    </tr>\n",
       "    <tr>\n",
       "      <th>2</th>\n",
       "      <td>78731</td>\n",
       "      <td>1662</td>\n",
       "      <td>374900</td>\n",
       "      <td>215.40</td>\n",
       "      <td>358000</td>\n",
       "      <td>10/31/2014</td>\n",
       "    </tr>\n",
       "    <tr>\n",
       "      <th>3</th>\n",
       "      <td>78731</td>\n",
       "      <td>1997</td>\n",
       "      <td>410000</td>\n",
       "      <td>185.03</td>\n",
       "      <td>369500</td>\n",
       "      <td>9/15/2014</td>\n",
       "    </tr>\n",
       "    <tr>\n",
       "      <th>4</th>\n",
       "      <td>78731</td>\n",
       "      <td>2058</td>\n",
       "      <td>390000</td>\n",
       "      <td>187.07</td>\n",
       "      <td>385000</td>\n",
       "      <td>6/6/2014</td>\n",
       "    </tr>\n",
       "  </tbody>\n",
       "</table>\n",
       "</div>"
      ],
      "text/plain": [
       "   Zip Code  Square Footage  List Price  Sold Price Per Foot  Sold Price  \\\n",
       "0     78759            1741      369000               186.67      325000   \n",
       "1     78759            2058      399000               168.61      347000   \n",
       "2     78731            1662      374900               215.40      358000   \n",
       "3     78731            1997      410000               185.03      369500   \n",
       "4     78731            2058      390000               187.07      385000   \n",
       "\n",
       "    Sold Date  \n",
       "0   8/18/2014  \n",
       "1   9/11/2014  \n",
       "2  10/31/2014  \n",
       "3   9/15/2014  \n",
       "4    6/6/2014  "
      ]
     },
     "execution_count": 13,
     "metadata": {},
     "output_type": "execute_result"
    }
   ],
   "source": [
    "renamed_df.head()"
   ]
  },
  {
   "cell_type": "code",
   "execution_count": 15,
   "metadata": {
    "collapsed": true
   },
   "outputs": [],
   "source": [
    "new_2013_df = renamed_df\n",
    "new_2013_df.to_csv(\"clean_2014_mls.csv\")"
   ]
  },
  {
   "cell_type": "code",
   "execution_count": null,
   "metadata": {
    "collapsed": true
   },
   "outputs": [],
   "source": []
  }
 ],
 "metadata": {
  "kernelspec": {
   "display_name": "Python 3",
   "language": "python",
   "name": "python3"
  },
  "language_info": {
   "codemirror_mode": {
    "name": "ipython",
    "version": 3
   },
   "file_extension": ".py",
   "mimetype": "text/x-python",
   "name": "python",
   "nbconvert_exporter": "python",
   "pygments_lexer": "ipython3",
   "version": "3.6.3"
  }
 },
 "nbformat": 4,
 "nbformat_minor": 2
}
