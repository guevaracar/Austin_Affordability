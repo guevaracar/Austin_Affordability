{
 "cells": [
  {
   "cell_type": "code",
   "execution_count": 1,
   "metadata": {},
   "outputs": [],
   "source": [
    "import pyglet\n",
    "import geoplotlib\n",
    "from geoplotlib.colors import create_set_cmap\n",
    "from sklearn.cluster import KMeans\n",
    "import geoplotlib\n",
    "from geoplotlib.layers import BaseLayer\n",
    "from geoplotlib.core import BatchPainter\n",
    "from geoplotlib.utils import BoundingBox\n",
    "import pandas as pd\n",
    "import numpy as np"
   ]
  },
  {
   "cell_type": "code",
   "execution_count": 2,
   "metadata": {
    "collapsed": true
   },
   "outputs": [],
   "source": [
    "file = 'new_2013_mls.csv'"
   ]
  },
  {
   "cell_type": "code",
   "execution_count": 3,
   "metadata": {
    "collapsed": true
   },
   "outputs": [],
   "source": [
    "df = pd.read_csv(file, encoding = \"ISO-8859-1\")"
   ]
  },
  {
   "cell_type": "code",
   "execution_count": 4,
   "metadata": {},
   "outputs": [
    {
     "data": {
      "text/plain": [
       "Unnamed: 0            int64\n",
       "Zip                 float64\n",
       "Sqft Total           object\n",
       "List Price           object\n",
       "Sold/Lease$/SqFt     object\n",
       "Sold/Lease Price     object\n",
       "Sold/Lease Date      object\n",
       "dtype: object"
      ]
     },
     "execution_count": 4,
     "metadata": {},
     "output_type": "execute_result"
    }
   ],
   "source": [
    "df.dtypes"
   ]
  },
  {
   "cell_type": "code",
   "execution_count": 6,
   "metadata": {},
   "outputs": [
    {
     "data": {
      "text/html": [
       "<div>\n",
       "<style>\n",
       "    .dataframe thead tr:only-child th {\n",
       "        text-align: right;\n",
       "    }\n",
       "\n",
       "    .dataframe thead th {\n",
       "        text-align: left;\n",
       "    }\n",
       "\n",
       "    .dataframe tbody tr th {\n",
       "        vertical-align: top;\n",
       "    }\n",
       "</style>\n",
       "<table border=\"1\" class=\"dataframe\">\n",
       "  <thead>\n",
       "    <tr style=\"text-align: right;\">\n",
       "      <th></th>\n",
       "      <th>Unnamed: 0</th>\n",
       "      <th>Zip</th>\n",
       "      <th>Sqft Total</th>\n",
       "      <th>List Price</th>\n",
       "      <th>Sold/Lease$/SqFt</th>\n",
       "      <th>Sold/Lease Price</th>\n",
       "      <th>Sold/Lease Date</th>\n",
       "    </tr>\n",
       "  </thead>\n",
       "  <tbody>\n",
       "    <tr>\n",
       "      <th>11579</th>\n",
       "      <td>11579</td>\n",
       "      <td>78735.0</td>\n",
       "      <td>5,995</td>\n",
       "      <td>$2,275,000</td>\n",
       "      <td>$354.46</td>\n",
       "      <td>$2,125,000</td>\n",
       "      <td>5/28/2013</td>\n",
       "    </tr>\n",
       "    <tr>\n",
       "      <th>11580</th>\n",
       "      <td>11580</td>\n",
       "      <td>78735.0</td>\n",
       "      <td>7,940</td>\n",
       "      <td>$2,499,000</td>\n",
       "      <td>$277.08</td>\n",
       "      <td>$2,200,000</td>\n",
       "      <td>6/14/2013</td>\n",
       "    </tr>\n",
       "    <tr>\n",
       "      <th>11581</th>\n",
       "      <td>11581</td>\n",
       "      <td>78736.0</td>\n",
       "      <td>7,575</td>\n",
       "      <td>$2,500,000</td>\n",
       "      <td>$305.20</td>\n",
       "      <td>$2,311,857</td>\n",
       "      <td>10/4/2013</td>\n",
       "    </tr>\n",
       "    <tr>\n",
       "      <th>11582</th>\n",
       "      <td>11582</td>\n",
       "      <td>78735.0</td>\n",
       "      <td>7,346</td>\n",
       "      <td>$3,250,000</td>\n",
       "      <td>$422.00</td>\n",
       "      <td>$3,100,000</td>\n",
       "      <td>9/10/2013</td>\n",
       "    </tr>\n",
       "    <tr>\n",
       "      <th>11583</th>\n",
       "      <td>11583</td>\n",
       "      <td>NaN</td>\n",
       "      <td>NaN</td>\n",
       "      <td>NaN</td>\n",
       "      <td>NaN</td>\n",
       "      <td>NaN</td>\n",
       "      <td>NaN</td>\n",
       "    </tr>\n",
       "  </tbody>\n",
       "</table>\n",
       "</div>"
      ],
      "text/plain": [
       "       Unnamed: 0      Zip Sqft Total   List Price Sold/Lease$/SqFt  \\\n",
       "11579       11579  78735.0      5,995  $2,275,000          $354.46    \n",
       "11580       11580  78735.0      7,940  $2,499,000          $277.08    \n",
       "11581       11581  78736.0      7,575  $2,500,000          $305.20    \n",
       "11582       11582  78735.0      7,346  $3,250,000          $422.00    \n",
       "11583       11583      NaN        NaN          NaN              NaN   \n",
       "\n",
       "      Sold/Lease Price Sold/Lease Date  \n",
       "11579      $2,125,000        5/28/2013  \n",
       "11580      $2,200,000        6/14/2013  \n",
       "11581      $2,311,857        10/4/2013  \n",
       "11582      $3,100,000        9/10/2013  \n",
       "11583              NaN             NaN  "
      ]
     },
     "execution_count": 6,
     "metadata": {},
     "output_type": "execute_result"
    }
   ],
   "source": [
    "# The last row (11583) is filled with NaN values and I am displaying this and will be cleaning\n",
    "df.tail()"
   ]
  },
  {
   "cell_type": "code",
   "execution_count": 7,
   "metadata": {
    "collapsed": true
   },
   "outputs": [],
   "source": [
    "# Using .rename(columns={}) in order to rename columns\n",
    "renamed_df = df.rename(columns={\"Zip\":\"Zip Code\", \"Sqft Total\":\"Square Footage\", \"Sold/Lease$/SqFt\":\"Sold Price Per Foot\",\"Sold/Lease Date\":\"Sold Date\",\"Sold/Lease Price\":\"Sold Price\"})\n",
    "del renamed_df['Unnamed: 0']\n",
    "renamed_df = renamed_df.drop(renamed_df.index[-1])\n",
    "renamed_df = renamed_df.fillna(0)"
   ]
  },
  {
   "cell_type": "code",
   "execution_count": 8,
   "metadata": {},
   "outputs": [
    {
     "data": {
      "text/html": [
       "<div>\n",
       "<style>\n",
       "    .dataframe thead tr:only-child th {\n",
       "        text-align: right;\n",
       "    }\n",
       "\n",
       "    .dataframe thead th {\n",
       "        text-align: left;\n",
       "    }\n",
       "\n",
       "    .dataframe tbody tr th {\n",
       "        vertical-align: top;\n",
       "    }\n",
       "</style>\n",
       "<table border=\"1\" class=\"dataframe\">\n",
       "  <thead>\n",
       "    <tr style=\"text-align: right;\">\n",
       "      <th></th>\n",
       "      <th>Zip Code</th>\n",
       "      <th>Square Footage</th>\n",
       "      <th>List Price</th>\n",
       "      <th>Sold Price Per Foot</th>\n",
       "      <th>Sold Price</th>\n",
       "      <th>Sold Date</th>\n",
       "    </tr>\n",
       "  </thead>\n",
       "  <tbody>\n",
       "    <tr>\n",
       "      <th>11578</th>\n",
       "      <td>78735.0</td>\n",
       "      <td>4822</td>\n",
       "      <td>1.875e+06</td>\n",
       "      <td>368.1</td>\n",
       "      <td>1.775e+06</td>\n",
       "      <td>6/11/2013</td>\n",
       "    </tr>\n",
       "    <tr>\n",
       "      <th>11579</th>\n",
       "      <td>78735.0</td>\n",
       "      <td>5995</td>\n",
       "      <td>2.275e+06</td>\n",
       "      <td>354.46</td>\n",
       "      <td>2.125e+06</td>\n",
       "      <td>5/28/2013</td>\n",
       "    </tr>\n",
       "    <tr>\n",
       "      <th>11580</th>\n",
       "      <td>78735.0</td>\n",
       "      <td>7940</td>\n",
       "      <td>2.499e+06</td>\n",
       "      <td>277.08</td>\n",
       "      <td>2.2e+06</td>\n",
       "      <td>6/14/2013</td>\n",
       "    </tr>\n",
       "    <tr>\n",
       "      <th>11581</th>\n",
       "      <td>78736.0</td>\n",
       "      <td>7575</td>\n",
       "      <td>2.5e+06</td>\n",
       "      <td>305.2</td>\n",
       "      <td>2.31186e+06</td>\n",
       "      <td>10/4/2013</td>\n",
       "    </tr>\n",
       "    <tr>\n",
       "      <th>11582</th>\n",
       "      <td>78735.0</td>\n",
       "      <td>7346</td>\n",
       "      <td>3.25e+06</td>\n",
       "      <td>422</td>\n",
       "      <td>3.1e+06</td>\n",
       "      <td>9/10/2013</td>\n",
       "    </tr>\n",
       "  </tbody>\n",
       "</table>\n",
       "</div>"
      ],
      "text/plain": [
       "       Zip Code Square Footage List Price Sold Price Per Foot   Sold Price  \\\n",
       "11578   78735.0           4822  1.875e+06               368.1    1.775e+06   \n",
       "11579   78735.0           5995  2.275e+06              354.46    2.125e+06   \n",
       "11580   78735.0           7940  2.499e+06              277.08      2.2e+06   \n",
       "11581   78736.0           7575    2.5e+06               305.2  2.31186e+06   \n",
       "11582   78735.0           7346   3.25e+06                 422      3.1e+06   \n",
       "\n",
       "       Sold Date  \n",
       "11578  6/11/2013  \n",
       "11579  5/28/2013  \n",
       "11580  6/14/2013  \n",
       "11581  10/4/2013  \n",
       "11582  9/10/2013  "
      ]
     },
     "execution_count": 8,
     "metadata": {},
     "output_type": "execute_result"
    }
   ],
   "source": [
    "for idx, row in renamed_df.iterrows():\n",
    "    renamed_df.set_value(idx,'Sold Price', float(str(row['Sold Price']).replace(',','').replace('$','').strip()))\n",
    "    renamed_df.set_value(idx,'Zip Code', float(str(row['Zip Code']).replace(',','').replace('$','').strip()))\n",
    "    renamed_df.set_value(idx, 'Square Footage', float(str(row['Square Footage']).replace(',','').replace('$','').strip()))\n",
    "    renamed_df.set_value(idx,'List Price', float(str(row['List Price']).replace(',','').replace('$','').strip()))\n",
    "    renamed_df.set_value(idx,'Sold Price Per Foot', float(str(row['Sold Price Per Foot']).replace(',','').replace('$','').strip()))\n",
    "\n",
    "renamed_df.tail()"
   ]
  },
  {
   "cell_type": "code",
   "execution_count": 9,
   "metadata": {},
   "outputs": [
    {
     "data": {
      "text/plain": [
       "Zip Code               float64\n",
       "Square Footage          object\n",
       "List Price              object\n",
       "Sold Price Per Foot     object\n",
       "Sold Price              object\n",
       "Sold Date               object\n",
       "dtype: object"
      ]
     },
     "execution_count": 9,
     "metadata": {},
     "output_type": "execute_result"
    }
   ],
   "source": [
    "renamed_df.dtypes"
   ]
  },
  {
   "cell_type": "code",
   "execution_count": 10,
   "metadata": {
    "collapsed": true
   },
   "outputs": [],
   "source": [
    "renamed_df['Sold Price'] = renamed_df['Sold Price'].astype(int)\n",
    "renamed_df['Zip Code'] = renamed_df['Zip Code'].astype(int)\n",
    "renamed_df['Square Footage'] = renamed_df['Square Footage'].astype(int)\n",
    "renamed_df['Sold Price Per Foot'] = renamed_df['Sold Price Per Foot'].astype(float)\n",
    "renamed_df['List Price'] = renamed_df['List Price'].astype(int)"
   ]
  },
  {
   "cell_type": "code",
   "execution_count": 11,
   "metadata": {},
   "outputs": [
    {
     "data": {
      "text/plain": [
       "Zip Code                 int32\n",
       "Square Footage           int32\n",
       "List Price               int32\n",
       "Sold Price Per Foot    float64\n",
       "Sold Price               int32\n",
       "Sold Date               object\n",
       "dtype: object"
      ]
     },
     "execution_count": 11,
     "metadata": {},
     "output_type": "execute_result"
    }
   ],
   "source": [
    "renamed_df.dtypes"
   ]
  },
  {
   "cell_type": "code",
   "execution_count": 12,
   "metadata": {},
   "outputs": [
    {
     "data": {
      "text/html": [
       "<div>\n",
       "<style>\n",
       "    .dataframe thead tr:only-child th {\n",
       "        text-align: right;\n",
       "    }\n",
       "\n",
       "    .dataframe thead th {\n",
       "        text-align: left;\n",
       "    }\n",
       "\n",
       "    .dataframe tbody tr th {\n",
       "        vertical-align: top;\n",
       "    }\n",
       "</style>\n",
       "<table border=\"1\" class=\"dataframe\">\n",
       "  <thead>\n",
       "    <tr style=\"text-align: right;\">\n",
       "      <th></th>\n",
       "      <th>Zip Code</th>\n",
       "      <th>Square Footage</th>\n",
       "      <th>List Price</th>\n",
       "      <th>Sold Price Per Foot</th>\n",
       "      <th>Sold Price</th>\n",
       "    </tr>\n",
       "  </thead>\n",
       "  <tbody>\n",
       "    <tr>\n",
       "      <th>count</th>\n",
       "      <td>11583.000000</td>\n",
       "      <td>11583.000000</td>\n",
       "      <td>1.158300e+04</td>\n",
       "      <td>11583.000000</td>\n",
       "      <td>1.158300e+04</td>\n",
       "    </tr>\n",
       "    <tr>\n",
       "      <th>mean</th>\n",
       "      <td>78736.860485</td>\n",
       "      <td>2278.491410</td>\n",
       "      <td>3.818551e+05</td>\n",
       "      <td>160.048443</td>\n",
       "      <td>3.730506e+05</td>\n",
       "    </tr>\n",
       "    <tr>\n",
       "      <th>std</th>\n",
       "      <td>15.261731</td>\n",
       "      <td>1072.650173</td>\n",
       "      <td>3.539743e+05</td>\n",
       "      <td>78.412336</td>\n",
       "      <td>3.284826e+05</td>\n",
       "    </tr>\n",
       "    <tr>\n",
       "      <th>min</th>\n",
       "      <td>78613.000000</td>\n",
       "      <td>0.000000</td>\n",
       "      <td>3.000000e+04</td>\n",
       "      <td>0.000000</td>\n",
       "      <td>4.000000e+04</td>\n",
       "    </tr>\n",
       "    <tr>\n",
       "      <th>25%</th>\n",
       "      <td>78728.000000</td>\n",
       "      <td>1513.000000</td>\n",
       "      <td>1.999000e+05</td>\n",
       "      <td>111.960000</td>\n",
       "      <td>1.972500e+05</td>\n",
       "    </tr>\n",
       "    <tr>\n",
       "      <th>50%</th>\n",
       "      <td>78738.000000</td>\n",
       "      <td>2046.000000</td>\n",
       "      <td>2.890000e+05</td>\n",
       "      <td>136.660000</td>\n",
       "      <td>2.854900e+05</td>\n",
       "    </tr>\n",
       "    <tr>\n",
       "      <th>75%</th>\n",
       "      <td>78748.000000</td>\n",
       "      <td>2821.500000</td>\n",
       "      <td>4.350000e+05</td>\n",
       "      <td>185.700000</td>\n",
       "      <td>4.290000e+05</td>\n",
       "    </tr>\n",
       "    <tr>\n",
       "      <th>max</th>\n",
       "      <td>78759.000000</td>\n",
       "      <td>12878.000000</td>\n",
       "      <td>6.950000e+06</td>\n",
       "      <td>2358.330000</td>\n",
       "      <td>5.860000e+06</td>\n",
       "    </tr>\n",
       "  </tbody>\n",
       "</table>\n",
       "</div>"
      ],
      "text/plain": [
       "           Zip Code  Square Footage    List Price  Sold Price Per Foot  \\\n",
       "count  11583.000000    11583.000000  1.158300e+04         11583.000000   \n",
       "mean   78736.860485     2278.491410  3.818551e+05           160.048443   \n",
       "std       15.261731     1072.650173  3.539743e+05            78.412336   \n",
       "min    78613.000000        0.000000  3.000000e+04             0.000000   \n",
       "25%    78728.000000     1513.000000  1.999000e+05           111.960000   \n",
       "50%    78738.000000     2046.000000  2.890000e+05           136.660000   \n",
       "75%    78748.000000     2821.500000  4.350000e+05           185.700000   \n",
       "max    78759.000000    12878.000000  6.950000e+06          2358.330000   \n",
       "\n",
       "         Sold Price  \n",
       "count  1.158300e+04  \n",
       "mean   3.730506e+05  \n",
       "std    3.284826e+05  \n",
       "min    4.000000e+04  \n",
       "25%    1.972500e+05  \n",
       "50%    2.854900e+05  \n",
       "75%    4.290000e+05  \n",
       "max    5.860000e+06  "
      ]
     },
     "execution_count": 12,
     "metadata": {},
     "output_type": "execute_result"
    }
   ],
   "source": [
    "renamed_df.describe()"
   ]
  },
  {
   "cell_type": "code",
   "execution_count": 13,
   "metadata": {},
   "outputs": [
    {
     "data": {
      "text/html": [
       "<div>\n",
       "<style>\n",
       "    .dataframe thead tr:only-child th {\n",
       "        text-align: right;\n",
       "    }\n",
       "\n",
       "    .dataframe thead th {\n",
       "        text-align: left;\n",
       "    }\n",
       "\n",
       "    .dataframe tbody tr th {\n",
       "        vertical-align: top;\n",
       "    }\n",
       "</style>\n",
       "<table border=\"1\" class=\"dataframe\">\n",
       "  <thead>\n",
       "    <tr style=\"text-align: right;\">\n",
       "      <th></th>\n",
       "      <th>Zip Code</th>\n",
       "      <th>Square Footage</th>\n",
       "      <th>List Price</th>\n",
       "      <th>Sold Price Per Foot</th>\n",
       "      <th>Sold Price</th>\n",
       "      <th>Sold Date</th>\n",
       "    </tr>\n",
       "  </thead>\n",
       "  <tbody>\n",
       "    <tr>\n",
       "      <th>0</th>\n",
       "      <td>78759</td>\n",
       "      <td>2126</td>\n",
       "      <td>379888</td>\n",
       "      <td>177.80</td>\n",
       "      <td>378000</td>\n",
       "      <td>11/22/2013</td>\n",
       "    </tr>\n",
       "    <tr>\n",
       "      <th>1</th>\n",
       "      <td>78731</td>\n",
       "      <td>2372</td>\n",
       "      <td>399900</td>\n",
       "      <td>160.20</td>\n",
       "      <td>380000</td>\n",
       "      <td>9/12/2013</td>\n",
       "    </tr>\n",
       "    <tr>\n",
       "      <th>2</th>\n",
       "      <td>78731</td>\n",
       "      <td>1662</td>\n",
       "      <td>396000</td>\n",
       "      <td>228.64</td>\n",
       "      <td>380000</td>\n",
       "      <td>7/3/2013</td>\n",
       "    </tr>\n",
       "    <tr>\n",
       "      <th>3</th>\n",
       "      <td>78731</td>\n",
       "      <td>2104</td>\n",
       "      <td>449000</td>\n",
       "      <td>182.98</td>\n",
       "      <td>385000</td>\n",
       "      <td>9/16/2013</td>\n",
       "    </tr>\n",
       "    <tr>\n",
       "      <th>4</th>\n",
       "      <td>78759</td>\n",
       "      <td>1877</td>\n",
       "      <td>385000</td>\n",
       "      <td>205.11</td>\n",
       "      <td>385000</td>\n",
       "      <td>7/24/2013</td>\n",
       "    </tr>\n",
       "  </tbody>\n",
       "</table>\n",
       "</div>"
      ],
      "text/plain": [
       "   Zip Code  Square Footage  List Price  Sold Price Per Foot  Sold Price  \\\n",
       "0     78759            2126      379888               177.80      378000   \n",
       "1     78731            2372      399900               160.20      380000   \n",
       "2     78731            1662      396000               228.64      380000   \n",
       "3     78731            2104      449000               182.98      385000   \n",
       "4     78759            1877      385000               205.11      385000   \n",
       "\n",
       "    Sold Date  \n",
       "0  11/22/2013  \n",
       "1   9/12/2013  \n",
       "2    7/3/2013  \n",
       "3   9/16/2013  \n",
       "4   7/24/2013  "
      ]
     },
     "execution_count": 13,
     "metadata": {},
     "output_type": "execute_result"
    }
   ],
   "source": [
    "renamed_df.head()"
   ]
  },
  {
   "cell_type": "code",
   "execution_count": 13,
   "metadata": {
    "collapsed": true
   },
   "outputs": [],
   "source": [
    "# new_2013_df = renamed_df\n",
    "# new_2013_df.to_csv(\"clean_2013_mls.csv\")"
   ]
  },
  {
   "cell_type": "code",
   "execution_count": null,
   "metadata": {
    "collapsed": true
   },
   "outputs": [],
   "source": []
  }
 ],
 "metadata": {
  "kernelspec": {
   "display_name": "Python 3",
   "language": "python",
   "name": "python3"
  },
  "language_info": {
   "codemirror_mode": {
    "name": "ipython",
    "version": 3
   },
   "file_extension": ".py",
   "mimetype": "text/x-python",
   "name": "python",
   "nbconvert_exporter": "python",
   "pygments_lexer": "ipython3",
   "version": "3.6.3"
  }
 },
 "nbformat": 4,
 "nbformat_minor": 2
}
