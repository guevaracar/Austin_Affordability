{
 "cells": [
  {
   "cell_type": "code",
   "execution_count": 1,
   "metadata": {
    "collapsed": true
   },
   "outputs": [],
   "source": [
    "import pandas as pd\n",
    "import numpy as np"
   ]
  },
  {
   "cell_type": "code",
   "execution_count": 4,
   "metadata": {},
   "outputs": [
    {
     "data": {
      "text/plain": [
       "Unnamed: 0           int64\n",
       "Zip                  int64\n",
       "Sqft Total          object\n",
       "List Price          object\n",
       "Sold/Lease$/SqFt    object\n",
       "Sold/Lease Price    object\n",
       "Sold/Lease Date     object\n",
       "dtype: object"
      ]
     },
     "execution_count": 4,
     "metadata": {},
     "output_type": "execute_result"
    }
   ],
   "source": [
    "file = 'new_2015_mls.csv'\n",
    "df = pd.read_csv(file, encoding = \"ISO-8859-1\")\n",
    "df.dtypes"
   ]
  },
  {
   "cell_type": "code",
   "execution_count": 5,
   "metadata": {},
   "outputs": [
    {
     "data": {
      "text/html": [
       "<div>\n",
       "<style>\n",
       "    .dataframe thead tr:only-child th {\n",
       "        text-align: right;\n",
       "    }\n",
       "\n",
       "    .dataframe thead th {\n",
       "        text-align: left;\n",
       "    }\n",
       "\n",
       "    .dataframe tbody tr th {\n",
       "        vertical-align: top;\n",
       "    }\n",
       "</style>\n",
       "<table border=\"1\" class=\"dataframe\">\n",
       "  <thead>\n",
       "    <tr style=\"text-align: right;\">\n",
       "      <th></th>\n",
       "      <th>Unnamed: 0</th>\n",
       "      <th>Zip</th>\n",
       "      <th>Sqft Total</th>\n",
       "      <th>List Price</th>\n",
       "      <th>Sold/Lease$/SqFt</th>\n",
       "      <th>Sold/Lease Price</th>\n",
       "      <th>Sold/Lease Date</th>\n",
       "    </tr>\n",
       "  </thead>\n",
       "  <tbody>\n",
       "    <tr>\n",
       "      <th>11389</th>\n",
       "      <td>11389</td>\n",
       "      <td>78735</td>\n",
       "      <td>5,105</td>\n",
       "      <td>$1,995,000</td>\n",
       "      <td>$377.08</td>\n",
       "      <td>$1,925,000</td>\n",
       "      <td>5/26/2015</td>\n",
       "    </tr>\n",
       "    <tr>\n",
       "      <th>11390</th>\n",
       "      <td>11390</td>\n",
       "      <td>78735</td>\n",
       "      <td>4,569</td>\n",
       "      <td>$2,100,000</td>\n",
       "      <td>$445.83</td>\n",
       "      <td>$2,037,000</td>\n",
       "      <td>10/19/2015</td>\n",
       "    </tr>\n",
       "    <tr>\n",
       "      <th>11391</th>\n",
       "      <td>11391</td>\n",
       "      <td>78735</td>\n",
       "      <td>5,248</td>\n",
       "      <td>$2,250,000</td>\n",
       "      <td>$423.97</td>\n",
       "      <td>$2,225,000</td>\n",
       "      <td>2/12/2015</td>\n",
       "    </tr>\n",
       "    <tr>\n",
       "      <th>11392</th>\n",
       "      <td>11392</td>\n",
       "      <td>78735</td>\n",
       "      <td>8,747</td>\n",
       "      <td>$2,950,000</td>\n",
       "      <td>$257.23</td>\n",
       "      <td>$2,250,000</td>\n",
       "      <td>8/7/2015</td>\n",
       "    </tr>\n",
       "    <tr>\n",
       "      <th>11393</th>\n",
       "      <td>11393</td>\n",
       "      <td>78735</td>\n",
       "      <td>9,713</td>\n",
       "      <td>$3,350,000</td>\n",
       "      <td>$318.39</td>\n",
       "      <td>$3,092,500</td>\n",
       "      <td>12/11/2015</td>\n",
       "    </tr>\n",
       "  </tbody>\n",
       "</table>\n",
       "</div>"
      ],
      "text/plain": [
       "       Unnamed: 0    Zip Sqft Total   List Price Sold/Lease$/SqFt  \\\n",
       "11389       11389  78735      5,105  $1,995,000          $377.08    \n",
       "11390       11390  78735      4,569  $2,100,000          $445.83    \n",
       "11391       11391  78735      5,248  $2,250,000          $423.97    \n",
       "11392       11392  78735      8,747  $2,950,000          $257.23    \n",
       "11393       11393  78735      9,713  $3,350,000          $318.39    \n",
       "\n",
       "      Sold/Lease Price Sold/Lease Date  \n",
       "11389      $1,925,000        5/26/2015  \n",
       "11390      $2,037,000       10/19/2015  \n",
       "11391      $2,225,000        2/12/2015  \n",
       "11392      $2,250,000         8/7/2015  \n",
       "11393      $3,092,500       12/11/2015  "
      ]
     },
     "execution_count": 5,
     "metadata": {},
     "output_type": "execute_result"
    }
   ],
   "source": [
    "df.tail()"
   ]
  },
  {
   "cell_type": "code",
   "execution_count": 6,
   "metadata": {
    "collapsed": true
   },
   "outputs": [],
   "source": [
    "# Using .rename(columns={}) in order to rename columns\n",
    "renamed_df = df.rename(columns={\"Zip\":\"Zip Code\", \"Sqft Total\":\"Square Footage\", \"Sold/Lease$/SqFt\":\"Sold Price Per Foot\",\"Sold/Lease Date\":\"Sold Date\",\"Sold/Lease Price\":\"Sold Price\"})\n",
    "del renamed_df['Unnamed: 0']\n",
    "# renamed_df = renamed_df.drop(renamed_df.index[-1])\n",
    "renamed_df = renamed_df.fillna(0)"
   ]
  },
  {
   "cell_type": "code",
   "execution_count": 7,
   "metadata": {},
   "outputs": [
    {
     "data": {
      "text/html": [
       "<div>\n",
       "<style>\n",
       "    .dataframe thead tr:only-child th {\n",
       "        text-align: right;\n",
       "    }\n",
       "\n",
       "    .dataframe thead th {\n",
       "        text-align: left;\n",
       "    }\n",
       "\n",
       "    .dataframe tbody tr th {\n",
       "        vertical-align: top;\n",
       "    }\n",
       "</style>\n",
       "<table border=\"1\" class=\"dataframe\">\n",
       "  <thead>\n",
       "    <tr style=\"text-align: right;\">\n",
       "      <th></th>\n",
       "      <th>Zip Code</th>\n",
       "      <th>Square Footage</th>\n",
       "      <th>List Price</th>\n",
       "      <th>Sold Price Per Foot</th>\n",
       "      <th>Sold Price</th>\n",
       "      <th>Sold Date</th>\n",
       "    </tr>\n",
       "  </thead>\n",
       "  <tbody>\n",
       "    <tr>\n",
       "      <th>11389</th>\n",
       "      <td>78735</td>\n",
       "      <td>5105</td>\n",
       "      <td>1.995e+06</td>\n",
       "      <td>377.08</td>\n",
       "      <td>1.925e+06</td>\n",
       "      <td>5/26/2015</td>\n",
       "    </tr>\n",
       "    <tr>\n",
       "      <th>11390</th>\n",
       "      <td>78735</td>\n",
       "      <td>4569</td>\n",
       "      <td>2.1e+06</td>\n",
       "      <td>445.83</td>\n",
       "      <td>2.037e+06</td>\n",
       "      <td>10/19/2015</td>\n",
       "    </tr>\n",
       "    <tr>\n",
       "      <th>11391</th>\n",
       "      <td>78735</td>\n",
       "      <td>5248</td>\n",
       "      <td>2.25e+06</td>\n",
       "      <td>423.97</td>\n",
       "      <td>2.225e+06</td>\n",
       "      <td>2/12/2015</td>\n",
       "    </tr>\n",
       "    <tr>\n",
       "      <th>11392</th>\n",
       "      <td>78735</td>\n",
       "      <td>8747</td>\n",
       "      <td>2.95e+06</td>\n",
       "      <td>257.23</td>\n",
       "      <td>2.25e+06</td>\n",
       "      <td>8/7/2015</td>\n",
       "    </tr>\n",
       "    <tr>\n",
       "      <th>11393</th>\n",
       "      <td>78735</td>\n",
       "      <td>9713</td>\n",
       "      <td>3.35e+06</td>\n",
       "      <td>318.39</td>\n",
       "      <td>3.0925e+06</td>\n",
       "      <td>12/11/2015</td>\n",
       "    </tr>\n",
       "  </tbody>\n",
       "</table>\n",
       "</div>"
      ],
      "text/plain": [
       "       Zip Code Square Footage List Price Sold Price Per Foot  Sold Price  \\\n",
       "11389     78735           5105  1.995e+06              377.08   1.925e+06   \n",
       "11390     78735           4569    2.1e+06              445.83   2.037e+06   \n",
       "11391     78735           5248   2.25e+06              423.97   2.225e+06   \n",
       "11392     78735           8747   2.95e+06              257.23    2.25e+06   \n",
       "11393     78735           9713   3.35e+06              318.39  3.0925e+06   \n",
       "\n",
       "        Sold Date  \n",
       "11389   5/26/2015  \n",
       "11390  10/19/2015  \n",
       "11391   2/12/2015  \n",
       "11392    8/7/2015  \n",
       "11393  12/11/2015  "
      ]
     },
     "execution_count": 7,
     "metadata": {},
     "output_type": "execute_result"
    }
   ],
   "source": [
    "for idx, row in renamed_df.iterrows():\n",
    "    renamed_df.set_value(idx,'Sold Price', float(str(row['Sold Price']).replace(',','').replace('$','').strip()))\n",
    "    renamed_df.set_value(idx,'Zip Code', float(str(row['Zip Code']).replace(',','').replace('$','').strip()))\n",
    "    renamed_df.set_value(idx, 'Square Footage', float(str(row['Square Footage']).replace(',','').replace('$','').strip()))\n",
    "    renamed_df.set_value(idx,'List Price', float(str(row['List Price']).replace(',','').replace('$','').strip()))\n",
    "    renamed_df.set_value(idx,'Sold Price Per Foot', float(str(row['Sold Price Per Foot']).replace(',','').replace('$','').strip()))\n",
    "\n",
    "renamed_df.tail()"
   ]
  },
  {
   "cell_type": "code",
   "execution_count": 8,
   "metadata": {},
   "outputs": [
    {
     "data": {
      "text/plain": [
       "Zip Code                int64\n",
       "Square Footage         object\n",
       "List Price             object\n",
       "Sold Price Per Foot    object\n",
       "Sold Price             object\n",
       "Sold Date              object\n",
       "dtype: object"
      ]
     },
     "execution_count": 8,
     "metadata": {},
     "output_type": "execute_result"
    }
   ],
   "source": [
    "renamed_df.dtypes"
   ]
  },
  {
   "cell_type": "code",
   "execution_count": 9,
   "metadata": {
    "collapsed": true
   },
   "outputs": [],
   "source": [
    "renamed_df['Sold Price'] = renamed_df['Sold Price'].astype(int)\n",
    "renamed_df['Zip Code'] = renamed_df['Zip Code'].astype(int)\n",
    "renamed_df['Square Footage'] = renamed_df['Square Footage'].astype(int)\n",
    "renamed_df['Sold Price Per Foot'] = renamed_df['Sold Price Per Foot'].astype(float)\n",
    "renamed_df['List Price'] = renamed_df['List Price'].astype(int)"
   ]
  },
  {
   "cell_type": "code",
   "execution_count": 10,
   "metadata": {},
   "outputs": [
    {
     "data": {
      "text/plain": [
       "Zip Code                 int32\n",
       "Square Footage           int32\n",
       "List Price               int32\n",
       "Sold Price Per Foot    float64\n",
       "Sold Price               int32\n",
       "Sold Date               object\n",
       "dtype: object"
      ]
     },
     "execution_count": 10,
     "metadata": {},
     "output_type": "execute_result"
    }
   ],
   "source": [
    "renamed_df.dtypes"
   ]
  },
  {
   "cell_type": "code",
   "execution_count": 13,
   "metadata": {},
   "outputs": [
    {
     "data": {
      "text/html": [
       "<div>\n",
       "<style>\n",
       "    .dataframe thead tr:only-child th {\n",
       "        text-align: right;\n",
       "    }\n",
       "\n",
       "    .dataframe thead th {\n",
       "        text-align: left;\n",
       "    }\n",
       "\n",
       "    .dataframe tbody tr th {\n",
       "        vertical-align: top;\n",
       "    }\n",
       "</style>\n",
       "<table border=\"1\" class=\"dataframe\">\n",
       "  <thead>\n",
       "    <tr style=\"text-align: right;\">\n",
       "      <th></th>\n",
       "      <th>Zip Code</th>\n",
       "      <th>Square Footage</th>\n",
       "      <th>List Price</th>\n",
       "      <th>Sold Price Per Foot</th>\n",
       "      <th>Sold Price</th>\n",
       "    </tr>\n",
       "  </thead>\n",
       "  <tbody>\n",
       "    <tr>\n",
       "      <th>count</th>\n",
       "      <td>11394.000000</td>\n",
       "      <td>11394.000000</td>\n",
       "      <td>1.139400e+04</td>\n",
       "      <td>11394.000000</td>\n",
       "      <td>1.139400e+04</td>\n",
       "    </tr>\n",
       "    <tr>\n",
       "      <th>mean</th>\n",
       "      <td>78736.601808</td>\n",
       "      <td>2260.709935</td>\n",
       "      <td>4.465359e+05</td>\n",
       "      <td>193.652472</td>\n",
       "      <td>4.366998e+05</td>\n",
       "    </tr>\n",
       "    <tr>\n",
       "      <th>std</th>\n",
       "      <td>15.740351</td>\n",
       "      <td>1052.115352</td>\n",
       "      <td>3.938307e+05</td>\n",
       "      <td>93.531028</td>\n",
       "      <td>3.694906e+05</td>\n",
       "    </tr>\n",
       "    <tr>\n",
       "      <th>min</th>\n",
       "      <td>78617.000000</td>\n",
       "      <td>431.000000</td>\n",
       "      <td>3.725000e+04</td>\n",
       "      <td>14.330000</td>\n",
       "      <td>3.725000e+04</td>\n",
       "    </tr>\n",
       "    <tr>\n",
       "      <th>25%</th>\n",
       "      <td>78728.000000</td>\n",
       "      <td>1517.000000</td>\n",
       "      <td>2.499125e+05</td>\n",
       "      <td>135.490000</td>\n",
       "      <td>2.499000e+05</td>\n",
       "    </tr>\n",
       "    <tr>\n",
       "      <th>50%</th>\n",
       "      <td>78738.000000</td>\n",
       "      <td>2046.000000</td>\n",
       "      <td>3.470000e+05</td>\n",
       "      <td>164.625000</td>\n",
       "      <td>3.409860e+05</td>\n",
       "    </tr>\n",
       "    <tr>\n",
       "      <th>75%</th>\n",
       "      <td>78748.000000</td>\n",
       "      <td>2758.000000</td>\n",
       "      <td>4.999900e+05</td>\n",
       "      <td>222.610000</td>\n",
       "      <td>4.920000e+05</td>\n",
       "    </tr>\n",
       "    <tr>\n",
       "      <th>max</th>\n",
       "      <td>78759.000000</td>\n",
       "      <td>15779.000000</td>\n",
       "      <td>8.950000e+06</td>\n",
       "      <td>1490.780000</td>\n",
       "      <td>6.817900e+06</td>\n",
       "    </tr>\n",
       "  </tbody>\n",
       "</table>\n",
       "</div>"
      ],
      "text/plain": [
       "           Zip Code  Square Footage    List Price  Sold Price Per Foot  \\\n",
       "count  11394.000000    11394.000000  1.139400e+04         11394.000000   \n",
       "mean   78736.601808     2260.709935  4.465359e+05           193.652472   \n",
       "std       15.740351     1052.115352  3.938307e+05            93.531028   \n",
       "min    78617.000000      431.000000  3.725000e+04            14.330000   \n",
       "25%    78728.000000     1517.000000  2.499125e+05           135.490000   \n",
       "50%    78738.000000     2046.000000  3.470000e+05           164.625000   \n",
       "75%    78748.000000     2758.000000  4.999900e+05           222.610000   \n",
       "max    78759.000000    15779.000000  8.950000e+06          1490.780000   \n",
       "\n",
       "         Sold Price  \n",
       "count  1.139400e+04  \n",
       "mean   4.366998e+05  \n",
       "std    3.694906e+05  \n",
       "min    3.725000e+04  \n",
       "25%    2.499000e+05  \n",
       "50%    3.409860e+05  \n",
       "75%    4.920000e+05  \n",
       "max    6.817900e+06  "
      ]
     },
     "execution_count": 13,
     "metadata": {},
     "output_type": "execute_result"
    }
   ],
   "source": [
    "renamed_df.describe()"
   ]
  },
  {
   "cell_type": "code",
   "execution_count": 14,
   "metadata": {},
   "outputs": [
    {
     "data": {
      "text/html": [
       "<div>\n",
       "<style>\n",
       "    .dataframe thead tr:only-child th {\n",
       "        text-align: right;\n",
       "    }\n",
       "\n",
       "    .dataframe thead th {\n",
       "        text-align: left;\n",
       "    }\n",
       "\n",
       "    .dataframe tbody tr th {\n",
       "        vertical-align: top;\n",
       "    }\n",
       "</style>\n",
       "<table border=\"1\" class=\"dataframe\">\n",
       "  <thead>\n",
       "    <tr style=\"text-align: right;\">\n",
       "      <th></th>\n",
       "      <th>Zip Code</th>\n",
       "      <th>Square Footage</th>\n",
       "      <th>List Price</th>\n",
       "      <th>Sold Price Per Foot</th>\n",
       "      <th>Sold Price</th>\n",
       "      <th>Sold Date</th>\n",
       "    </tr>\n",
       "  </thead>\n",
       "  <tbody>\n",
       "    <tr>\n",
       "      <th>0</th>\n",
       "      <td>78731</td>\n",
       "      <td>1662</td>\n",
       "      <td>360000</td>\n",
       "      <td>197.05</td>\n",
       "      <td>327500</td>\n",
       "      <td>12/31/2015</td>\n",
       "    </tr>\n",
       "    <tr>\n",
       "      <th>1</th>\n",
       "      <td>78731</td>\n",
       "      <td>2912</td>\n",
       "      <td>399000</td>\n",
       "      <td>121.91</td>\n",
       "      <td>355000</td>\n",
       "      <td>9/16/2015</td>\n",
       "    </tr>\n",
       "    <tr>\n",
       "      <th>2</th>\n",
       "      <td>78731</td>\n",
       "      <td>1749</td>\n",
       "      <td>410000</td>\n",
       "      <td>228.70</td>\n",
       "      <td>400000</td>\n",
       "      <td>11/30/2015</td>\n",
       "    </tr>\n",
       "    <tr>\n",
       "      <th>3</th>\n",
       "      <td>78759</td>\n",
       "      <td>2204</td>\n",
       "      <td>419914</td>\n",
       "      <td>181.49</td>\n",
       "      <td>400000</td>\n",
       "      <td>7/21/2015</td>\n",
       "    </tr>\n",
       "    <tr>\n",
       "      <th>4</th>\n",
       "      <td>78759</td>\n",
       "      <td>2310</td>\n",
       "      <td>425000</td>\n",
       "      <td>181.82</td>\n",
       "      <td>420000</td>\n",
       "      <td>9/10/2015</td>\n",
       "    </tr>\n",
       "  </tbody>\n",
       "</table>\n",
       "</div>"
      ],
      "text/plain": [
       "   Zip Code  Square Footage  List Price  Sold Price Per Foot  Sold Price  \\\n",
       "0     78731            1662      360000               197.05      327500   \n",
       "1     78731            2912      399000               121.91      355000   \n",
       "2     78731            1749      410000               228.70      400000   \n",
       "3     78759            2204      419914               181.49      400000   \n",
       "4     78759            2310      425000               181.82      420000   \n",
       "\n",
       "    Sold Date  \n",
       "0  12/31/2015  \n",
       "1   9/16/2015  \n",
       "2  11/30/2015  \n",
       "3   7/21/2015  \n",
       "4   9/10/2015  "
      ]
     },
     "execution_count": 14,
     "metadata": {},
     "output_type": "execute_result"
    }
   ],
   "source": [
    "renamed_df.head()"
   ]
  },
  {
   "cell_type": "code",
   "execution_count": 15,
   "metadata": {
    "collapsed": true
   },
   "outputs": [],
   "source": [
    "new_2013_df = renamed_df\n",
    "new_2013_df.to_csv(\"clean_2015_mls.csv\")"
   ]
  },
  {
   "cell_type": "code",
   "execution_count": null,
   "metadata": {
    "collapsed": true
   },
   "outputs": [],
   "source": []
  }
 ],
 "metadata": {
  "kernelspec": {
   "display_name": "Python 3",
   "language": "python",
   "name": "python3"
  },
  "language_info": {
   "codemirror_mode": {
    "name": "ipython",
    "version": 3
   },
   "file_extension": ".py",
   "mimetype": "text/x-python",
   "name": "python",
   "nbconvert_exporter": "python",
   "pygments_lexer": "ipython3",
   "version": "3.6.3"
  }
 },
 "nbformat": 4,
 "nbformat_minor": 2
}
