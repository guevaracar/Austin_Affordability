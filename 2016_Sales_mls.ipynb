{
 "cells": [
  {
   "cell_type": "code",
   "execution_count": 1,
   "metadata": {
    "collapsed": true
   },
   "outputs": [],
   "source": [
    "import pandas as pd\n",
    "import numpy as np"
   ]
  },
  {
   "cell_type": "code",
   "execution_count": 2,
   "metadata": {},
   "outputs": [
    {
     "data": {
      "text/plain": [
       "Unnamed: 0            int64\n",
       "Zip                 float64\n",
       "Sqft Total           object\n",
       "List Price           object\n",
       "Sold/Lease$/SqFt     object\n",
       "Sold/Lease Price     object\n",
       "Sold/Lease Date      object\n",
       "dtype: object"
      ]
     },
     "execution_count": 2,
     "metadata": {},
     "output_type": "execute_result"
    }
   ],
   "source": [
    "file = 'new_2016_mls.csv'\n",
    "df = pd.read_csv(file, encoding = \"ISO-8859-1\")\n",
    "df.dtypes"
   ]
  },
  {
   "cell_type": "code",
   "execution_count": 3,
   "metadata": {},
   "outputs": [
    {
     "data": {
      "text/html": [
       "<div>\n",
       "<style>\n",
       "    .dataframe thead tr:only-child th {\n",
       "        text-align: right;\n",
       "    }\n",
       "\n",
       "    .dataframe thead th {\n",
       "        text-align: left;\n",
       "    }\n",
       "\n",
       "    .dataframe tbody tr th {\n",
       "        vertical-align: top;\n",
       "    }\n",
       "</style>\n",
       "<table border=\"1\" class=\"dataframe\">\n",
       "  <thead>\n",
       "    <tr style=\"text-align: right;\">\n",
       "      <th></th>\n",
       "      <th>Unnamed: 0</th>\n",
       "      <th>Zip</th>\n",
       "      <th>Sqft Total</th>\n",
       "      <th>List Price</th>\n",
       "      <th>Sold/Lease$/SqFt</th>\n",
       "      <th>Sold/Lease Price</th>\n",
       "      <th>Sold/Lease Date</th>\n",
       "    </tr>\n",
       "  </thead>\n",
       "  <tbody>\n",
       "    <tr>\n",
       "      <th>11550</th>\n",
       "      <td>11550</td>\n",
       "      <td>78735.0</td>\n",
       "      <td>3,868</td>\n",
       "      <td>$1,529,900</td>\n",
       "      <td>$393.74</td>\n",
       "      <td>$1,522,995</td>\n",
       "      <td>5/3/2016</td>\n",
       "    </tr>\n",
       "    <tr>\n",
       "      <th>11551</th>\n",
       "      <td>11551</td>\n",
       "      <td>78735.0</td>\n",
       "      <td>5,311</td>\n",
       "      <td>$1,699,000</td>\n",
       "      <td>$305.97</td>\n",
       "      <td>$1,625,000</td>\n",
       "      <td>8/16/2016</td>\n",
       "    </tr>\n",
       "    <tr>\n",
       "      <th>11552</th>\n",
       "      <td>11552</td>\n",
       "      <td>78735.0</td>\n",
       "      <td>5,067</td>\n",
       "      <td>$2,100,000</td>\n",
       "      <td>$355.24</td>\n",
       "      <td>$1,800,000</td>\n",
       "      <td>7/29/2016</td>\n",
       "    </tr>\n",
       "    <tr>\n",
       "      <th>11553</th>\n",
       "      <td>11553</td>\n",
       "      <td>78735.0</td>\n",
       "      <td>4,566</td>\n",
       "      <td>$2,545,000</td>\n",
       "      <td>$557.38</td>\n",
       "      <td>$2,545,000</td>\n",
       "      <td>11/21/2016</td>\n",
       "    </tr>\n",
       "    <tr>\n",
       "      <th>11554</th>\n",
       "      <td>11554</td>\n",
       "      <td>NaN</td>\n",
       "      <td>NaN</td>\n",
       "      <td>NaN</td>\n",
       "      <td>NaN</td>\n",
       "      <td>NaN</td>\n",
       "      <td>NaN</td>\n",
       "    </tr>\n",
       "  </tbody>\n",
       "</table>\n",
       "</div>"
      ],
      "text/plain": [
       "       Unnamed: 0      Zip Sqft Total   List Price Sold/Lease$/SqFt  \\\n",
       "11550       11550  78735.0      3,868  $1,529,900          $393.74    \n",
       "11551       11551  78735.0      5,311  $1,699,000          $305.97    \n",
       "11552       11552  78735.0      5,067  $2,100,000          $355.24    \n",
       "11553       11553  78735.0      4,566  $2,545,000          $557.38    \n",
       "11554       11554      NaN        NaN          NaN              NaN   \n",
       "\n",
       "      Sold/Lease Price Sold/Lease Date  \n",
       "11550      $1,522,995         5/3/2016  \n",
       "11551      $1,625,000        8/16/2016  \n",
       "11552      $1,800,000        7/29/2016  \n",
       "11553      $2,545,000       11/21/2016  \n",
       "11554              NaN             NaN  "
      ]
     },
     "execution_count": 3,
     "metadata": {},
     "output_type": "execute_result"
    }
   ],
   "source": [
    "df.tail()"
   ]
  },
  {
   "cell_type": "code",
   "execution_count": 4,
   "metadata": {
    "collapsed": true
   },
   "outputs": [],
   "source": [
    "# Using .rename(columns={}) in order to rename columns\n",
    "renamed_df = df.rename(columns={\"Zip\":\"Zip Code\", \"Sqft Total\":\"Square Footage\", \"Sold/Lease$/SqFt\":\"Sold Price Per Foot\",\"Sold/Lease Date\":\"Sold Date\",\"Sold/Lease Price\":\"Sold Price\"})\n",
    "del renamed_df['Unnamed: 0']\n",
    "renamed_df = renamed_df.drop(renamed_df.index[-1])\n",
    "renamed_df = renamed_df.fillna(0)"
   ]
  },
  {
   "cell_type": "code",
   "execution_count": 5,
   "metadata": {},
   "outputs": [
    {
     "data": {
      "text/html": [
       "<div>\n",
       "<style>\n",
       "    .dataframe thead tr:only-child th {\n",
       "        text-align: right;\n",
       "    }\n",
       "\n",
       "    .dataframe thead th {\n",
       "        text-align: left;\n",
       "    }\n",
       "\n",
       "    .dataframe tbody tr th {\n",
       "        vertical-align: top;\n",
       "    }\n",
       "</style>\n",
       "<table border=\"1\" class=\"dataframe\">\n",
       "  <thead>\n",
       "    <tr style=\"text-align: right;\">\n",
       "      <th></th>\n",
       "      <th>Zip Code</th>\n",
       "      <th>Square Footage</th>\n",
       "      <th>List Price</th>\n",
       "      <th>Sold Price Per Foot</th>\n",
       "      <th>Sold Price</th>\n",
       "      <th>Sold Date</th>\n",
       "    </tr>\n",
       "  </thead>\n",
       "  <tbody>\n",
       "    <tr>\n",
       "      <th>11549</th>\n",
       "      <td>78735.0</td>\n",
       "      <td>5216</td>\n",
       "      <td>1.5e+06</td>\n",
       "      <td>287.58</td>\n",
       "      <td>1.5e+06</td>\n",
       "      <td>12/12/2016</td>\n",
       "    </tr>\n",
       "    <tr>\n",
       "      <th>11550</th>\n",
       "      <td>78735.0</td>\n",
       "      <td>3868</td>\n",
       "      <td>1.5299e+06</td>\n",
       "      <td>393.74</td>\n",
       "      <td>1.523e+06</td>\n",
       "      <td>5/3/2016</td>\n",
       "    </tr>\n",
       "    <tr>\n",
       "      <th>11551</th>\n",
       "      <td>78735.0</td>\n",
       "      <td>5311</td>\n",
       "      <td>1.699e+06</td>\n",
       "      <td>305.97</td>\n",
       "      <td>1.625e+06</td>\n",
       "      <td>8/16/2016</td>\n",
       "    </tr>\n",
       "    <tr>\n",
       "      <th>11552</th>\n",
       "      <td>78735.0</td>\n",
       "      <td>5067</td>\n",
       "      <td>2.1e+06</td>\n",
       "      <td>355.24</td>\n",
       "      <td>1.8e+06</td>\n",
       "      <td>7/29/2016</td>\n",
       "    </tr>\n",
       "    <tr>\n",
       "      <th>11553</th>\n",
       "      <td>78735.0</td>\n",
       "      <td>4566</td>\n",
       "      <td>2.545e+06</td>\n",
       "      <td>557.38</td>\n",
       "      <td>2.545e+06</td>\n",
       "      <td>11/21/2016</td>\n",
       "    </tr>\n",
       "  </tbody>\n",
       "</table>\n",
       "</div>"
      ],
      "text/plain": [
       "       Zip Code Square Footage  List Price Sold Price Per Foot Sold Price  \\\n",
       "11549   78735.0           5216     1.5e+06              287.58    1.5e+06   \n",
       "11550   78735.0           3868  1.5299e+06              393.74  1.523e+06   \n",
       "11551   78735.0           5311   1.699e+06              305.97  1.625e+06   \n",
       "11552   78735.0           5067     2.1e+06              355.24    1.8e+06   \n",
       "11553   78735.0           4566   2.545e+06              557.38  2.545e+06   \n",
       "\n",
       "        Sold Date  \n",
       "11549  12/12/2016  \n",
       "11550    5/3/2016  \n",
       "11551   8/16/2016  \n",
       "11552   7/29/2016  \n",
       "11553  11/21/2016  "
      ]
     },
     "execution_count": 5,
     "metadata": {},
     "output_type": "execute_result"
    }
   ],
   "source": [
    "for idx, row in renamed_df.iterrows():\n",
    "    renamed_df.set_value(idx,'Sold Price', float(str(row['Sold Price']).replace(',','').replace('$','').strip()))\n",
    "    renamed_df.set_value(idx,'Zip Code', float(str(row['Zip Code']).replace(',','').replace('$','').strip()))\n",
    "    renamed_df.set_value(idx, 'Square Footage', float(str(row['Square Footage']).replace(',','').replace('$','').strip()))\n",
    "    renamed_df.set_value(idx,'List Price', float(str(row['List Price']).replace(',','').replace('$','').strip()))\n",
    "    renamed_df.set_value(idx,'Sold Price Per Foot', float(str(row['Sold Price Per Foot']).replace(',','').replace('$','').strip()))\n",
    "\n",
    "renamed_df.tail()"
   ]
  },
  {
   "cell_type": "code",
   "execution_count": 6,
   "metadata": {},
   "outputs": [
    {
     "data": {
      "text/plain": [
       "Zip Code               float64\n",
       "Square Footage          object\n",
       "List Price              object\n",
       "Sold Price Per Foot     object\n",
       "Sold Price              object\n",
       "Sold Date               object\n",
       "dtype: object"
      ]
     },
     "execution_count": 6,
     "metadata": {},
     "output_type": "execute_result"
    }
   ],
   "source": [
    "renamed_df.dtypes"
   ]
  },
  {
   "cell_type": "code",
   "execution_count": 7,
   "metadata": {
    "collapsed": true
   },
   "outputs": [],
   "source": [
    "renamed_df['Sold Price'] = renamed_df['Sold Price'].astype(int)\n",
    "renamed_df['Zip Code'] = renamed_df['Zip Code'].astype(int)\n",
    "renamed_df['Square Footage'] = renamed_df['Square Footage'].astype(int)\n",
    "renamed_df['Sold Price Per Foot'] = renamed_df['Sold Price Per Foot'].astype(float)\n",
    "renamed_df['List Price'] = renamed_df['List Price'].astype(int)"
   ]
  },
  {
   "cell_type": "code",
   "execution_count": 8,
   "metadata": {},
   "outputs": [
    {
     "data": {
      "text/plain": [
       "Zip Code                 int32\n",
       "Square Footage           int32\n",
       "List Price               int32\n",
       "Sold Price Per Foot    float64\n",
       "Sold Price               int32\n",
       "Sold Date               object\n",
       "dtype: object"
      ]
     },
     "execution_count": 8,
     "metadata": {},
     "output_type": "execute_result"
    }
   ],
   "source": [
    "renamed_df.dtypes"
   ]
  },
  {
   "cell_type": "code",
   "execution_count": 9,
   "metadata": {},
   "outputs": [
    {
     "data": {
      "text/html": [
       "<div>\n",
       "<style>\n",
       "    .dataframe thead tr:only-child th {\n",
       "        text-align: right;\n",
       "    }\n",
       "\n",
       "    .dataframe thead th {\n",
       "        text-align: left;\n",
       "    }\n",
       "\n",
       "    .dataframe tbody tr th {\n",
       "        vertical-align: top;\n",
       "    }\n",
       "</style>\n",
       "<table border=\"1\" class=\"dataframe\">\n",
       "  <thead>\n",
       "    <tr style=\"text-align: right;\">\n",
       "      <th></th>\n",
       "      <th>Zip Code</th>\n",
       "      <th>Square Footage</th>\n",
       "      <th>List Price</th>\n",
       "      <th>Sold Price Per Foot</th>\n",
       "      <th>Sold Price</th>\n",
       "    </tr>\n",
       "  </thead>\n",
       "  <tbody>\n",
       "    <tr>\n",
       "      <th>count</th>\n",
       "      <td>11554.000000</td>\n",
       "      <td>11554.000000</td>\n",
       "      <td>1.155400e+04</td>\n",
       "      <td>11554.000000</td>\n",
       "      <td>1.155400e+04</td>\n",
       "    </tr>\n",
       "    <tr>\n",
       "      <th>mean</th>\n",
       "      <td>78736.490306</td>\n",
       "      <td>2242.389649</td>\n",
       "      <td>4.610923e+05</td>\n",
       "      <td>204.398268</td>\n",
       "      <td>4.504572e+05</td>\n",
       "    </tr>\n",
       "    <tr>\n",
       "      <th>std</th>\n",
       "      <td>16.149596</td>\n",
       "      <td>1038.030313</td>\n",
       "      <td>3.980296e+05</td>\n",
       "      <td>93.072439</td>\n",
       "      <td>3.638628e+05</td>\n",
       "    </tr>\n",
       "    <tr>\n",
       "      <th>min</th>\n",
       "      <td>78613.000000</td>\n",
       "      <td>336.000000</td>\n",
       "      <td>1.990000e+04</td>\n",
       "      <td>5.770000</td>\n",
       "      <td>1.500000e+04</td>\n",
       "    </tr>\n",
       "    <tr>\n",
       "      <th>25%</th>\n",
       "      <td>78727.000000</td>\n",
       "      <td>1520.000000</td>\n",
       "      <td>2.700000e+05</td>\n",
       "      <td>144.362500</td>\n",
       "      <td>2.690015e+05</td>\n",
       "    </tr>\n",
       "    <tr>\n",
       "      <th>50%</th>\n",
       "      <td>78738.000000</td>\n",
       "      <td>2039.500000</td>\n",
       "      <td>3.650000e+05</td>\n",
       "      <td>174.320000</td>\n",
       "      <td>3.600000e+05</td>\n",
       "    </tr>\n",
       "    <tr>\n",
       "      <th>75%</th>\n",
       "      <td>78748.000000</td>\n",
       "      <td>2744.000000</td>\n",
       "      <td>5.200000e+05</td>\n",
       "      <td>238.575000</td>\n",
       "      <td>5.120000e+05</td>\n",
       "    </tr>\n",
       "    <tr>\n",
       "      <th>max</th>\n",
       "      <td>78759.000000</td>\n",
       "      <td>20117.000000</td>\n",
       "      <td>1.420000e+07</td>\n",
       "      <td>1255.410000</td>\n",
       "      <td>1.150000e+07</td>\n",
       "    </tr>\n",
       "  </tbody>\n",
       "</table>\n",
       "</div>"
      ],
      "text/plain": [
       "           Zip Code  Square Footage    List Price  Sold Price Per Foot  \\\n",
       "count  11554.000000    11554.000000  1.155400e+04         11554.000000   \n",
       "mean   78736.490306     2242.389649  4.610923e+05           204.398268   \n",
       "std       16.149596     1038.030313  3.980296e+05            93.072439   \n",
       "min    78613.000000      336.000000  1.990000e+04             5.770000   \n",
       "25%    78727.000000     1520.000000  2.700000e+05           144.362500   \n",
       "50%    78738.000000     2039.500000  3.650000e+05           174.320000   \n",
       "75%    78748.000000     2744.000000  5.200000e+05           238.575000   \n",
       "max    78759.000000    20117.000000  1.420000e+07          1255.410000   \n",
       "\n",
       "         Sold Price  \n",
       "count  1.155400e+04  \n",
       "mean   4.504572e+05  \n",
       "std    3.638628e+05  \n",
       "min    1.500000e+04  \n",
       "25%    2.690015e+05  \n",
       "50%    3.600000e+05  \n",
       "75%    5.120000e+05  \n",
       "max    1.150000e+07  "
      ]
     },
     "execution_count": 9,
     "metadata": {},
     "output_type": "execute_result"
    }
   ],
   "source": [
    "renamed_df.describe()"
   ]
  },
  {
   "cell_type": "code",
   "execution_count": 10,
   "metadata": {},
   "outputs": [
    {
     "data": {
      "text/html": [
       "<div>\n",
       "<style>\n",
       "    .dataframe thead tr:only-child th {\n",
       "        text-align: right;\n",
       "    }\n",
       "\n",
       "    .dataframe thead th {\n",
       "        text-align: left;\n",
       "    }\n",
       "\n",
       "    .dataframe tbody tr th {\n",
       "        vertical-align: top;\n",
       "    }\n",
       "</style>\n",
       "<table border=\"1\" class=\"dataframe\">\n",
       "  <thead>\n",
       "    <tr style=\"text-align: right;\">\n",
       "      <th></th>\n",
       "      <th>Zip Code</th>\n",
       "      <th>Square Footage</th>\n",
       "      <th>List Price</th>\n",
       "      <th>Sold Price Per Foot</th>\n",
       "      <th>Sold Price</th>\n",
       "      <th>Sold Date</th>\n",
       "    </tr>\n",
       "  </thead>\n",
       "  <tbody>\n",
       "    <tr>\n",
       "      <th>0</th>\n",
       "      <td>78731</td>\n",
       "      <td>2342</td>\n",
       "      <td>495000</td>\n",
       "      <td>188.98</td>\n",
       "      <td>442600</td>\n",
       "      <td>7/5/2016</td>\n",
       "    </tr>\n",
       "    <tr>\n",
       "      <th>1</th>\n",
       "      <td>78759</td>\n",
       "      <td>1798</td>\n",
       "      <td>449900</td>\n",
       "      <td>247.50</td>\n",
       "      <td>445000</td>\n",
       "      <td>10/31/2016</td>\n",
       "    </tr>\n",
       "    <tr>\n",
       "      <th>2</th>\n",
       "      <td>78731</td>\n",
       "      <td>1692</td>\n",
       "      <td>450000</td>\n",
       "      <td>265.37</td>\n",
       "      <td>449000</td>\n",
       "      <td>8/31/2016</td>\n",
       "    </tr>\n",
       "    <tr>\n",
       "      <th>3</th>\n",
       "      <td>78759</td>\n",
       "      <td>1803</td>\n",
       "      <td>469900</td>\n",
       "      <td>249.58</td>\n",
       "      <td>450000</td>\n",
       "      <td>12/6/2016</td>\n",
       "    </tr>\n",
       "    <tr>\n",
       "      <th>4</th>\n",
       "      <td>78759</td>\n",
       "      <td>1810</td>\n",
       "      <td>445000</td>\n",
       "      <td>248.62</td>\n",
       "      <td>450000</td>\n",
       "      <td>7/8/2016</td>\n",
       "    </tr>\n",
       "  </tbody>\n",
       "</table>\n",
       "</div>"
      ],
      "text/plain": [
       "   Zip Code  Square Footage  List Price  Sold Price Per Foot  Sold Price  \\\n",
       "0     78731            2342      495000               188.98      442600   \n",
       "1     78759            1798      449900               247.50      445000   \n",
       "2     78731            1692      450000               265.37      449000   \n",
       "3     78759            1803      469900               249.58      450000   \n",
       "4     78759            1810      445000               248.62      450000   \n",
       "\n",
       "    Sold Date  \n",
       "0    7/5/2016  \n",
       "1  10/31/2016  \n",
       "2   8/31/2016  \n",
       "3   12/6/2016  \n",
       "4    7/8/2016  "
      ]
     },
     "execution_count": 10,
     "metadata": {},
     "output_type": "execute_result"
    }
   ],
   "source": [
    "renamed_df.head()"
   ]
  },
  {
   "cell_type": "code",
   "execution_count": 11,
   "metadata": {
    "collapsed": true
   },
   "outputs": [],
   "source": [
    "new_2013_df = renamed_df\n",
    "new_2013_df.to_csv(\"clean_2016_mls.csv\")"
   ]
  },
  {
   "cell_type": "code",
   "execution_count": null,
   "metadata": {
    "collapsed": true
   },
   "outputs": [],
   "source": []
  }
 ],
 "metadata": {
  "kernelspec": {
   "display_name": "Python 3",
   "language": "python",
   "name": "python3"
  },
  "language_info": {
   "codemirror_mode": {
    "name": "ipython",
    "version": 3
   },
   "file_extension": ".py",
   "mimetype": "text/x-python",
   "name": "python",
   "nbconvert_exporter": "python",
   "pygments_lexer": "ipython3",
   "version": "3.6.3"
  }
 },
 "nbformat": 4,
 "nbformat_minor": 2
}
